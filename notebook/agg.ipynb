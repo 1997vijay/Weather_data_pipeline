{
 "cells": [
  {
   "cell_type": "code",
   "execution_count": 25,
   "metadata": {},
   "outputs": [],
   "source": [
    "# import required libraries\n",
    "import pandas as pd\n",
    "import matplotlib.pyplot as plt\n",
    "import seaborn as sns\n",
    "\n",
    "import warnings\n",
    "warnings.filterwarnings('ignore')"
   ]
  },
  {
   "cell_type": "code",
   "execution_count": 26,
   "metadata": {},
   "outputs": [
    {
     "data": {
      "text/html": [
       "<div>\n",
       "<style scoped>\n",
       "    .dataframe tbody tr th:only-of-type {\n",
       "        vertical-align: middle;\n",
       "    }\n",
       "\n",
       "    .dataframe tbody tr th {\n",
       "        vertical-align: top;\n",
       "    }\n",
       "\n",
       "    .dataframe thead th {\n",
       "        text-align: right;\n",
       "    }\n",
       "</style>\n",
       "<table border=\"1\" class=\"dataframe\">\n",
       "  <thead>\n",
       "    <tr style=\"text-align: right;\">\n",
       "      <th></th>\n",
       "      <th>DATE</th>\n",
       "      <th>Year</th>\n",
       "      <th>STN</th>\n",
       "      <th>STATION NAME</th>\n",
       "      <th>COUNTRY NAME</th>\n",
       "      <th>LAT</th>\n",
       "      <th>LON</th>\n",
       "      <th>TEMP</th>\n",
       "      <th>DEWP</th>\n",
       "      <th>SLP</th>\n",
       "      <th>...</th>\n",
       "      <th>Season</th>\n",
       "      <th>TempChange</th>\n",
       "      <th>WindCategory</th>\n",
       "      <th>VisibilityCategory</th>\n",
       "      <th>Fog</th>\n",
       "      <th>Rain</th>\n",
       "      <th>Snow</th>\n",
       "      <th>Hail</th>\n",
       "      <th>Thunder</th>\n",
       "      <th>Tornado</th>\n",
       "    </tr>\n",
       "  </thead>\n",
       "  <tbody>\n",
       "    <tr>\n",
       "      <th>0</th>\n",
       "      <td>1929-10-01</td>\n",
       "      <td>1929</td>\n",
       "      <td>30050</td>\n",
       "      <td>LERWICK</td>\n",
       "      <td>UNITED KINGDOM</td>\n",
       "      <td>60.133</td>\n",
       "      <td>-1.183</td>\n",
       "      <td>7.39</td>\n",
       "      <td>40.0</td>\n",
       "      <td>1001.6</td>\n",
       "      <td>...</td>\n",
       "      <td>Autumn</td>\n",
       "      <td>3.89</td>\n",
       "      <td>Low</td>\n",
       "      <td>Moderate</td>\n",
       "      <td>0</td>\n",
       "      <td>NaN</td>\n",
       "      <td>NaN</td>\n",
       "      <td>NaN</td>\n",
       "      <td>NaN</td>\n",
       "      <td>NaN</td>\n",
       "    </tr>\n",
       "    <tr>\n",
       "      <th>1</th>\n",
       "      <td>1929-10-02</td>\n",
       "      <td>1929</td>\n",
       "      <td>30050</td>\n",
       "      <td>LERWICK</td>\n",
       "      <td>UNITED KINGDOM</td>\n",
       "      <td>60.133</td>\n",
       "      <td>-1.183</td>\n",
       "      <td>9.72</td>\n",
       "      <td>45.2</td>\n",
       "      <td>977.6</td>\n",
       "      <td>...</td>\n",
       "      <td>Autumn</td>\n",
       "      <td>5.00</td>\n",
       "      <td>High</td>\n",
       "      <td>Low</td>\n",
       "      <td>1</td>\n",
       "      <td>0.0</td>\n",
       "      <td>0.0</td>\n",
       "      <td>0.0</td>\n",
       "      <td>0.0</td>\n",
       "      <td>NaN</td>\n",
       "    </tr>\n",
       "    <tr>\n",
       "      <th>2</th>\n",
       "      <td>1929-10-03</td>\n",
       "      <td>1929</td>\n",
       "      <td>30050</td>\n",
       "      <td>LERWICK</td>\n",
       "      <td>UNITED KINGDOM</td>\n",
       "      <td>60.133</td>\n",
       "      <td>-1.183</td>\n",
       "      <td>9.44</td>\n",
       "      <td>41.7</td>\n",
       "      <td>975.7</td>\n",
       "      <td>...</td>\n",
       "      <td>Autumn</td>\n",
       "      <td>3.94</td>\n",
       "      <td>Medium</td>\n",
       "      <td>Moderate</td>\n",
       "      <td>1</td>\n",
       "      <td>0.0</td>\n",
       "      <td>0.0</td>\n",
       "      <td>0.0</td>\n",
       "      <td>0.0</td>\n",
       "      <td>NaN</td>\n",
       "    </tr>\n",
       "  </tbody>\n",
       "</table>\n",
       "<p>3 rows × 33 columns</p>\n",
       "</div>"
      ],
      "text/plain": [
       "         DATE  Year    STN STATION NAME    COUNTRY NAME     LAT    LON  TEMP  \\\n",
       "0  1929-10-01  1929  30050      LERWICK  UNITED KINGDOM  60.133 -1.183  7.39   \n",
       "1  1929-10-02  1929  30050      LERWICK  UNITED KINGDOM  60.133 -1.183  9.72   \n",
       "2  1929-10-03  1929  30050      LERWICK  UNITED KINGDOM  60.133 -1.183  9.44   \n",
       "\n",
       "   DEWP     SLP  ...  Season  TempChange  WindCategory  VisibilityCategory  \\\n",
       "0  40.0  1001.6  ...  Autumn        3.89           Low            Moderate   \n",
       "1  45.2   977.6  ...  Autumn        5.00          High                 Low   \n",
       "2  41.7   975.7  ...  Autumn        3.94        Medium            Moderate   \n",
       "\n",
       "   Fog  Rain  Snow Hail  Thunder  Tornado  \n",
       "0    0   NaN   NaN  NaN      NaN      NaN  \n",
       "1    1   0.0   0.0  0.0      0.0      NaN  \n",
       "2    1   0.0   0.0  0.0      0.0      NaN  \n",
       "\n",
       "[3 rows x 33 columns]"
      ]
     },
     "execution_count": 26,
     "metadata": {},
     "output_type": "execute_result"
    }
   ],
   "source": [
    "# read processed weather file\n",
    "weather_df=pd.read_csv('../data/processed/WEATHER_PROCESSED.csv')\n",
    "weather_df.head(3)"
   ]
  },
  {
   "cell_type": "code",
   "execution_count": 27,
   "metadata": {},
   "outputs": [],
   "source": [
    "# get year\n",
    "weather_df['VisibilityCategory']=weather_df['VisibilityCategory'].astype(str)\n",
    "weather_df['WindCategory']=weather_df['WindCategory'].astype(str)\n",
    "weather_df['TEMP']=round(weather_df['TEMP'],2)\n",
    "weather_df['DATE']=pd.to_datetime(weather_df['DATE'],format='ISO8601')"
   ]
  },
  {
   "cell_type": "code",
   "execution_count": 28,
   "metadata": {},
   "outputs": [
    {
     "data": {
      "text/html": [
       "<div>\n",
       "<style scoped>\n",
       "    .dataframe tbody tr th:only-of-type {\n",
       "        vertical-align: middle;\n",
       "    }\n",
       "\n",
       "    .dataframe tbody tr th {\n",
       "        vertical-align: top;\n",
       "    }\n",
       "\n",
       "    .dataframe thead th {\n",
       "        text-align: right;\n",
       "    }\n",
       "</style>\n",
       "<table border=\"1\" class=\"dataframe\">\n",
       "  <thead>\n",
       "    <tr style=\"text-align: right;\">\n",
       "      <th></th>\n",
       "      <th>DATE</th>\n",
       "      <th>Year</th>\n",
       "      <th>TEMP</th>\n",
       "      <th>VISIB</th>\n",
       "      <th>TempChange</th>\n",
       "      <th>WindCategory</th>\n",
       "      <th>VisibilityCategory</th>\n",
       "    </tr>\n",
       "  </thead>\n",
       "  <tbody>\n",
       "    <tr>\n",
       "      <th>0</th>\n",
       "      <td>1929-08-01</td>\n",
       "      <td>1929</td>\n",
       "      <td>14.56</td>\n",
       "      <td>6.7</td>\n",
       "      <td>6.07</td>\n",
       "      <td>High</td>\n",
       "      <td>Very Low</td>\n",
       "    </tr>\n",
       "    <tr>\n",
       "      <th>1</th>\n",
       "      <td>1929-08-02</td>\n",
       "      <td>1929</td>\n",
       "      <td>13.29</td>\n",
       "      <td>4.8</td>\n",
       "      <td>7.90</td>\n",
       "      <td>Medium</td>\n",
       "      <td>Very Low</td>\n",
       "    </tr>\n",
       "    <tr>\n",
       "      <th>2</th>\n",
       "      <td>1929-08-03</td>\n",
       "      <td>1929</td>\n",
       "      <td>13.70</td>\n",
       "      <td>6.7</td>\n",
       "      <td>7.26</td>\n",
       "      <td>Medium</td>\n",
       "      <td>Very Low</td>\n",
       "    </tr>\n",
       "  </tbody>\n",
       "</table>\n",
       "</div>"
      ],
      "text/plain": [
       "        DATE  Year   TEMP  VISIB  TempChange WindCategory VisibilityCategory\n",
       "0 1929-08-01  1929  14.56    6.7        6.07         High           Very Low\n",
       "1 1929-08-02  1929  13.29    4.8        7.90       Medium           Very Low\n",
       "2 1929-08-03  1929  13.70    6.7        7.26       Medium           Very Low"
      ]
     },
     "execution_count": 28,
     "metadata": {},
     "output_type": "execute_result"
    }
   ],
   "source": [
    "# aggregate based on date\n",
    "grouped_by_date=weather_df.groupby('DATE').agg({\n",
    "    'Year':'max',\n",
    "    \"TEMP\":\"mean\",\n",
    "    'VISIB':'mean',\n",
    "    'TempChange':\"mean\",\n",
    "    'WindCategory':'max',\n",
    "    'VisibilityCategory':'max'\n",
    "}).reset_index()\n",
    "grouped_by_date['TEMP']=round(grouped_by_date['TEMP'],2)\n",
    "grouped_by_date['VISIB']=round(grouped_by_date['VISIB'],2)\n",
    "grouped_by_date['TempChange']=round(grouped_by_date['TempChange'],2)\n",
    "grouped_by_date.head(3)"
   ]
  },
  {
   "cell_type": "code",
   "execution_count": 29,
   "metadata": {},
   "outputs": [
    {
     "data": {
      "text/html": [
       "<div>\n",
       "<style scoped>\n",
       "    .dataframe tbody tr th:only-of-type {\n",
       "        vertical-align: middle;\n",
       "    }\n",
       "\n",
       "    .dataframe tbody tr th {\n",
       "        vertical-align: top;\n",
       "    }\n",
       "\n",
       "    .dataframe thead th {\n",
       "        text-align: right;\n",
       "    }\n",
       "</style>\n",
       "<table border=\"1\" class=\"dataframe\">\n",
       "  <thead>\n",
       "    <tr style=\"text-align: right;\">\n",
       "      <th></th>\n",
       "      <th>Year</th>\n",
       "      <th>TEMP</th>\n",
       "      <th>VISIB</th>\n",
       "      <th>TempChange</th>\n",
       "      <th>Rank</th>\n",
       "    </tr>\n",
       "  </thead>\n",
       "  <tbody>\n",
       "    <tr>\n",
       "      <th>0</th>\n",
       "      <td>1929</td>\n",
       "      <td>9.58</td>\n",
       "      <td>6.97</td>\n",
       "      <td>8.20</td>\n",
       "      <td>78.0</td>\n",
       "    </tr>\n",
       "    <tr>\n",
       "      <th>1</th>\n",
       "      <td>1930</td>\n",
       "      <td>9.92</td>\n",
       "      <td>7.05</td>\n",
       "      <td>6.80</td>\n",
       "      <td>71.0</td>\n",
       "    </tr>\n",
       "    <tr>\n",
       "      <th>2</th>\n",
       "      <td>1931</td>\n",
       "      <td>9.79</td>\n",
       "      <td>9.17</td>\n",
       "      <td>3.76</td>\n",
       "      <td>75.0</td>\n",
       "    </tr>\n",
       "  </tbody>\n",
       "</table>\n",
       "</div>"
      ],
      "text/plain": [
       "   Year  TEMP  VISIB  TempChange  Rank\n",
       "0  1929  9.58   6.97        8.20  78.0\n",
       "1  1930  9.92   7.05        6.80  71.0\n",
       "2  1931  9.79   9.17        3.76  75.0"
      ]
     },
     "execution_count": 29,
     "metadata": {},
     "output_type": "execute_result"
    }
   ],
   "source": [
    "# aggregate based on year\n",
    "grouped_by_year=weather_df.groupby('Year').agg({\n",
    "    \"TEMP\":\"mean\",\n",
    "    'VISIB':'mean',\n",
    "    'TempChange':\"mean\",\n",
    "}).reset_index()\n",
    "\n",
    "# applying the dense rank to create the color for the bar graph\n",
    "grouped_by_year['Rank'] = grouped_by_year['TEMP'].rank(ascending=False, method='dense')\n",
    "grouped_by_year['TEMP']=round(grouped_by_year['TEMP'],2)\n",
    "grouped_by_year['VISIB']=round(grouped_by_year['VISIB'],2)\n",
    "grouped_by_year['TempChange']=round(grouped_by_year['TempChange'],2)\n",
    "grouped_by_year.head(3)"
   ]
  },
  {
   "cell_type": "code",
   "execution_count": 30,
   "metadata": {},
   "outputs": [],
   "source": [
    "def assign_color(row):\n",
    "    if row==1:\n",
    "        return 'red'\n",
    "    elif row==2:\n",
    "        return 'orange'\n",
    "    elif row==grouped_by_year['Rank'].max():\n",
    "        return 'green'\n",
    "    else:\n",
    "        return 'gray'\n",
    "\n",
    "# assing the colors to highlight the highest, second highest and lowest temprature bar\n",
    "grouped_by_year['Colors']=grouped_by_year['Rank'].apply(lambda row: 'red' if row == 1 else ('orange' if row == 2 else ('green' if row == grouped_by_year['Rank'].max() else 'gray')))"
   ]
  },
  {
   "cell_type": "code",
   "execution_count": 31,
   "metadata": {},
   "outputs": [
    {
     "data": {
      "image/png": "[encoded data removed]",
      "text/plain": [
       "<Figure size 3000x1000 with 1 Axes>"
      ]
     },
     "metadata": {},
     "output_type": "display_data"
    }
   ],
   "source": [
    "plt.figure(figsize =(30, 10)) \n",
    "\n",
    "# Plot the bar chart with the specified color palette\n",
    "plots=sns.barplot(x=\"Year\", y=\"TEMP\", data=grouped_by_year, palette=grouped_by_year['Colors'].tolist())\n",
    "\n",
    "# plots.annotate(...): This function is used to annotate each bar with its height. It adds a text label to each bar, displaying its height.\n",
    "# format(bar.get_height(), ''): Formats the height of the bar as a string.\n",
    "# (bar.get_x() + bar.get_width() / 2, bar.get_height()): Specifies the position where the text label will be placed, which is at the top center of each bar.\n",
    "# ha='center', va='center': Aligns the text label at the center of the specified position.\n",
    "# size=6: Sets the font size of the text label to 6 points.\n",
    "# xytext=(0, 8): Offsets the text label by (0, 8) points from the specified position.\n",
    "# textcoords='offset points': Specifies that the positioning is done using offset points.\n",
    "\n",
    "for bar in plots.patches: \n",
    "    plots.annotate(format(bar.get_height(), ''),  \n",
    "                (bar.get_x() + bar.get_width() / 2,  \n",
    "                bar.get_height()),ha='center', va='center', \n",
    "                size=6, xytext=(0, 8), \n",
    "                textcoords='offset points')\n",
    "plt.title('Average Temprature for each year')\n",
    "plt.text(0.5, 1, '1. Red --> Year with highest temprature \\n 2. Orange --> Year with second highest temprature \\n 3. Green--> Year with minimum temprature', size=10, ha='center', va='center', transform=plt.gcf().transFigure)\n",
    "plt.xticks(rotation=90)\n",
    "plt.show()"
   ]
  },
  {
   "cell_type": "code",
   "execution_count": 32,
   "metadata": {},
   "outputs": [
    {
     "data": {
      "text/html": [
       "<div>\n",
       "<style scoped>\n",
       "    .dataframe tbody tr th:only-of-type {\n",
       "        vertical-align: middle;\n",
       "    }\n",
       "\n",
       "    .dataframe tbody tr th {\n",
       "        vertical-align: top;\n",
       "    }\n",
       "\n",
       "    .dataframe thead th {\n",
       "        text-align: right;\n",
       "    }\n",
       "</style>\n",
       "<table border=\"1\" class=\"dataframe\">\n",
       "  <thead>\n",
       "    <tr style=\"text-align: right;\">\n",
       "      <th></th>\n",
       "      <th>Season</th>\n",
       "      <th>Year</th>\n",
       "      <th>TEMP</th>\n",
       "      <th>VISIB</th>\n",
       "      <th>TempChange</th>\n",
       "    </tr>\n",
       "  </thead>\n",
       "  <tbody>\n",
       "    <tr>\n",
       "      <th>0</th>\n",
       "      <td>Autumn</td>\n",
       "      <td>1929</td>\n",
       "      <td>9.98</td>\n",
       "      <td>7.28</td>\n",
       "      <td>10.02</td>\n",
       "    </tr>\n",
       "    <tr>\n",
       "      <th>1</th>\n",
       "      <td>Autumn</td>\n",
       "      <td>1930</td>\n",
       "      <td>10.71</td>\n",
       "      <td>7.26</td>\n",
       "      <td>5.17</td>\n",
       "    </tr>\n",
       "    <tr>\n",
       "      <th>2</th>\n",
       "      <td>Autumn</td>\n",
       "      <td>1931</td>\n",
       "      <td>10.11</td>\n",
       "      <td>7.92</td>\n",
       "      <td>3.74</td>\n",
       "    </tr>\n",
       "    <tr>\n",
       "      <th>3</th>\n",
       "      <td>Autumn</td>\n",
       "      <td>1932</td>\n",
       "      <td>10.29</td>\n",
       "      <td>8.87</td>\n",
       "      <td>10.40</td>\n",
       "    </tr>\n",
       "    <tr>\n",
       "      <th>4</th>\n",
       "      <td>Autumn</td>\n",
       "      <td>1933</td>\n",
       "      <td>7.92</td>\n",
       "      <td>6.65</td>\n",
       "      <td>13.44</td>\n",
       "    </tr>\n",
       "  </tbody>\n",
       "</table>\n",
       "</div>"
      ],
      "text/plain": [
       "   Season  Year   TEMP  VISIB  TempChange\n",
       "0  Autumn  1929   9.98   7.28       10.02\n",
       "1  Autumn  1930  10.71   7.26        5.17\n",
       "2  Autumn  1931  10.11   7.92        3.74\n",
       "3  Autumn  1932  10.29   8.87       10.40\n",
       "4  Autumn  1933   7.92   6.65       13.44"
      ]
     },
     "execution_count": 32,
     "metadata": {},
     "output_type": "execute_result"
    }
   ],
   "source": [
    "# aggregate based on date and seasons\n",
    "grouped_by_seasons=weather_df.groupby(['Season',\"Year\"]).agg({\n",
    "    \"TEMP\":\"mean\",\n",
    "    'VISIB':'mean',\n",
    "    'TempChange':\"mean\",\n",
    "}).reset_index()\n",
    "grouped_by_seasons['TEMP']=round(grouped_by_seasons['TEMP'],2)\n",
    "grouped_by_seasons['VISIB']=round(grouped_by_seasons['VISIB'],2)\n",
    "grouped_by_seasons['TempChange']=round(grouped_by_seasons['TempChange'],2)\n",
    "grouped_by_seasons.head(5)"
   ]
  },
  {
   "cell_type": "code",
   "execution_count": 33,
   "metadata": {},
   "outputs": [
    {
     "data": {
      "image/png": "[encoded data removed]",
      "text/plain": [
       "<Figure size 1500x700 with 3 Axes>"
      ]
     },
     "metadata": {},
     "output_type": "display_data"
    }
   ],
   "source": [
    "try:\n",
    "    # Monthly trends\n",
    "    weather_df['Month'] = weather_df['DATE'].dt.month\n",
    "    monthly_mean_temp = weather_df.groupby('Month')['TEMP'].mean().reset_index()\n",
    "\n",
    "    # Seasonal trends \n",
    "    seasonal_mean_temp = weather_df.groupby('Season')['TEMP'].mean().reset_index()\n",
    "\n",
    "    # set the graph size\n",
    "    plt.figure(figsize=(15, 7))\n",
    "\n",
    "    # subplot(row, columns, first plot)\n",
    "    plt.subplot(2, 2, 1)\n",
    "    sns.lineplot(x='Month', y='TEMP', data=monthly_mean_temp, marker='o')\n",
    "    plt.title('Monthly Mean Temperature')\n",
    "    plt.xlabel('Month')\n",
    "    plt.ylabel('Mean Temperature (°C)')\n",
    "\n",
    "    plt.subplot(2, 2, 2)\n",
    "    sns.barplot(x='Season', y='TEMP', data=seasonal_mean_temp)\n",
    "    plt.title('Seasonal Mean Temperature')\n",
    "    plt.xlabel('Season')\n",
    "    plt.ylabel('Mean Temperature (°C)')\n",
    "\n",
    "    # 2. Temperature Distribution\n",
    "    plt.subplot(2, 2, 3)\n",
    "    sns.histplot(weather_df['TEMP'], bins=20, kde=True,color='red')\n",
    "    plt.title('Temperature Distribution')\n",
    "    plt.xlabel('Temperature (°C)')\n",
    "    plt.ylabel('Frequency')\n",
    "\n",
    "\n",
    "    plt.subplots_adjust(hspace=0.5, wspace=0.5)\n",
    "    plt.show()\n",
    "except Exception as e:\n",
    "    raise e"
   ]
  },
  {
   "cell_type": "code",
   "execution_count": 34,
   "metadata": {},
   "outputs": [
    {
     "data": {
      "application/vnd.plotly.v1+json": {
       "config": {
        "plotlyServerURL": "https://plot.ly"
       },
       "data": [
        {
         "lat": [
          55.317,
          30.325,
          54.817,
          -24.721,
          36.773,
          43.008,
          56.11,
          23.964,
          -28.367,
          50.078,
          44.798,
          8.62,
          32.5,
          7.706,
          30.317,
          -27.967,
          19.984,
          42.85,
          36.75,
          46.183,
          44.535,
          55.063,
          45.823,
          22.948,
          -6.617,
          39.5,
          46.483,
          52.783,
          19.885,
          35.357,
          9.946,
          41.72,
          64.193,
          -0.907,
          31.178,
          41.986,
          -22.633,
          -22.083,
          47.433,
          47.733,
          38.767,
          -0.5,
          14.57,
          37.014,
          34.45,
          43.757,
          35.197,
          35.1,
          44.34,
          39.134,
          41.328,
          32.167,
          30.46,
          -37.65,
          59.767,
          51.783,
          34.687,
          -42.836,
          64.083,
          52.417,
          69.067,
          19.817,
          52.817,
          34.633,
          37.785,
          23.178,
          69.233,
          25.068,
          34.2,
          13.983,
          46.383,
          -15.95,
          37.833,
          47.617,
          40.667,
          44.633,
          -25.517,
          48.667,
          8.1,
          66.167,
          42.35,
          45.151,
          44.533,
          60.7,
          -32.969,
          37.083,
          31.583,
          39.917,
          57.983,
          59.35,
          53.309,
          16.767,
          37.617,
          46.311,
          31.742,
          40.52,
          65.15,
          55.567,
          60.683,
          10.367,
          15.65,
          33.35,
          49.283,
          23.633,
          -15.255,
          33.636,
          -16.717,
          42.224,
          53.533,
          7.733,
          -17.755,
          30.017,
          44.883,
          43.867,
          12.583,
          41.122,
          59.566,
          63.117,
          28.55,
          33.464,
          42.333,
          51.073,
          31.673,
          -20.114,
          18.4,
          -19.7,
          55.767,
          44.35,
          64.567,
          46.9,
          40.917,
          26.16,
          28.64,
          -35.367,
          63.733,
          -17.856,
          32.8,
          54.5,
          34.891,
          57.92,
          46.3,
          52.25,
          34.051,
          -40.757,
          -13.067,
          49.1,
          -33.359,
          36.399,
          -28.65,
          -21.983,
          36.636,
          47.683,
          -37.867,
          -22.058,
          32.457,
          49.917,
          -0.454,
          28.284,
          22.783,
          32.717,
          43.183,
          44.433,
          -13.85,
          -10.683,
          24.3,
          44.42,
          13.683,
          47.267,
          15.35,
          -6.7,
          -6.017,
          49.15,
          60.173,
          45.85,
          46.9,
          56.8,
          71.321,
          36.515,
          17.617,
          -18.585,
          46.1,
          -25.83,
          60.116,
          51.217,
          35.755,
          44.077,
          48.214,
          -4.082,
          36.6,
          38.38,
          44.683,
          34.842,
          20.4,
          34.933,
          25.733,
          45.8,
          48.586,
          56.517
         ],
         "lon": [
          10.433,
          -9.413,
          46.583,
          -60.549,
          -98.67,
          1.103,
          56.574,
          32.82,
          31.217,
          19.785,
          -68.819,
          -70.221,
          -93.667,
          81.679,
          -89.317,
          152.983,
          42.621,
          74.533,
          -97.35,
          23.933,
          11.289,
          14.76,
          -92.373,
          -109.939,
          -35.133,
          9.617,
          7.133,
          126,
          99.827,
          -99.204,
          76.272,
          -71.33,
          -83.359,
          -78.616,
          -99.324,
          -95.381,
          -52.883,
          33.367,
          9.733,
          130.967,
          -104.3,
          37.45,
          -89.35,
          -7.966,
          133.25,
          4.416,
          -81.156,
          -1.867,
          -105.542,
          -108.541,
          -72.049,
          115.617,
          -87.877,
          142.067,
          22.95,
          -111.217,
          125.451,
          147.51,
          16.233,
          136.5,
          27.5,
          -90.5,
          18.333,
          137.1,
          30.582,
          80.052,
          -51.067,
          61.805,
          -77.83,
          101.7,
          17.833,
          -173.767,
          65.2,
          118.617,
          129.2,
          78.75,
          31.9,
          21.217,
          98.983,
          29.15,
          78.35,
          1.469,
          -79.217,
          47.6,
          18.16,
          -76.36,
          105.967,
          25.236,
          7.05,
          31.233,
          -110.073,
          101.25,
          120.317,
          -85.457,
          118.862,
          22.971,
          18.6,
          13.067,
          13.7,
          -12.083,
          -13.25,
          10.483,
          -112.533,
          58.567,
          23.162,
          -91.756,
          -43.867,
          -91.166,
          -7.367,
          -8.833,
          177.443,
          -90.117,
          -72.233,
          4.4,
          99.733,
          -100.669,
          9.212,
          75.283,
          48.383,
          -80.853,
          -7.867,
          58.596,
          6.14,
          16.154,
          103.667,
          -51.183,
          38.683,
          -78.3,
          19.7,
          -95.067,
          12.95,
          -97.338,
          -96.595,
          -57.283,
          25.7,
          36.869,
          -88.833,
          -111.7,
          -79.759,
          -72.98,
          11.783,
          43.783,
          -6.752,
          -65.031,
          -64.667,
          -123.3,
          -56.499,
          25.479,
          -56.017,
          -47.883,
          53.194,
          8.617,
          145.25,
          27.829,
          -87.242,
          -110.917,
          -90.266,
          68.45,
          115.367,
          133.017,
          124.333,
          24.35,
          167.55,
          35.583,
          91.733,
          -72.019,
          100.767,
          -122.576,
          100.5,
          156.383,
          -40.283,
          57.117,
          -132.743,
          40.083,
          29.6,
          105.8,
          -156.611,
          139.871,
          100.1,
          -173.962,
          7.267,
          28.223,
          -128.823,
          18.567,
          -112.337,
          -91.708,
          -106.621,
          122.417,
          109.5,
          -81.591,
          -111.117,
          127.617,
          78.15,
          136.583,
          101.867,
          15.967,
          18.852,
          25.917
         ],
         "marker": {
          "color": [
           139,
           61,
           160,
           38,
           109,
           112,
           167,
           22,
           74,
           132,
           145,
           17,
           64,
           8,
           46,
           68,
           23,
           111,
           76,
           124,
           96,
           138,
           156,
           32,
           37,
           55,
           148,
           182,
           27,
           94,
           14,
           122,
           191,
           120,
           63,
           106,
           45,
           31,
           125,
           173,
           143,
           60,
           41,
           69,
           97,
           95,
           93,
           58,
           146,
           119,
           117,
           85,
           66,
           116,
           154,
           168,
           104,
           113,
           170,
           183,
           181,
           11,
           135,
           91,
           102,
           26,
           188,
           25,
           73,
           9,
           114,
           21,
           67,
           177,
           128,
           130,
           48,
           127,
           18,
           179,
           145,
           105,
           148,
           174,
           87,
           88,
           74,
           81,
           158,
           163,
           169,
           15,
           103,
           157,
           84,
           86,
           171,
           141,
           164,
           29,
           1,
           53,
           162,
           7,
           24,
           71,
           40,
           186,
           133,
           28,
           33,
           49,
           150,
           90,
           16,
           136,
           151,
           185,
           101,
           72,
           92,
           161,
           65,
           50,
           10,
           43,
           187,
           142,
           165,
           159,
           107,
           42,
           51,
           75,
           175,
           30,
           74,
           172,
           83,
           190,
           166,
           189,
           80,
           89,
           2,
           126,
           78,
           62,
           44,
           54,
           70,
           126,
           99,
           56,
           77,
           155,
           4,
           39,
           47,
           79,
           152,
           110,
           20,
           52,
           34,
           144,
           4,
           123,
           5,
           13,
           19,
           147,
           176,
           115,
           118,
           184,
           192,
           82,
           6,
           35,
           180,
           59,
           178,
           129,
           131,
           140,
           153,
           12,
           134,
           108,
           137,
           36,
           3,
           98,
           57,
           100,
           121,
           149
          ]
         },
         "mode": "markers",
         "text": [
          "AARSLEV DENMARK-->9.76",
          "AL MASSIRA MOROCCO-->20.35",
          "ALATYR' RUSSIA-->6.23",
          "ALFEREZ ARMANDO RODRIGUEZ ARGENTINA-->25.14",
          "ALVA REGIONAL AIRPORT UNITED STATES-->13.72",
          "ANTICHAN FRANCE-->13.32",
          "ASKINO RUSSIA-->4.61",
          "ASWAN INTL EGYPT-->26.72",
          "BABANANGO SOUTH AFRICA-->18.7",
          "BALICE POLAND-->10.46",
          "BANGOR INTERNATIONAL ARPT UNITED STATES-->8.78",
          "BARINAS VENEZUELA-->27.7",
          "BARKSDALE AIR FORCE BASE UNITED STATES-->19.75",
          "BATTICALOA SRI LANKA-->28.44",
          "BAY WAVELAND YACHT CLUB UNITED STATES-->23.55",
          "BEAUDESERT DRUMLEY ST AUSTRALIA-->19.57",
          "BISHA SAUDI ARABIA-->26.53",
          "BISHKEK KYRGYZSTAN-->13.38",
          "BLACKWELL TONKAWA MUNICIPAL AIRPORT UNITED STATES-->18.41",
          "BLAJ ROMANIA-->11.59",
          "BOLOGNA ITALY-->15.51",
          "BORNHOLM RONNE DENMARK-->9.91",
          "BURNETT COUNTY AIRPORT UNITED STATES-->6.89",
          "CABO SAN LUCAS MEXICO-->25.71",
          "CAMARATUBA BRAZIL-->25.2",
          "CAPE S. LORENZO ITALY-->21.33",
          "CHATEAU-D'OEX SWITZERLAND-->8.23",
          "CHERNJAEVO RUSSIA-->-0.9",
          "CHIANG RAI THAILAND-->25.97",
          "CLINTON-SHERMAN AIRPORT UNITED STATES-->16.05",
          "COCHIN INDIA-->27.94",
          "CONIMUCUT LIGHT UNITED STATES-->12.02",
          "CORAL HARBOUR CANADA-->-8.44",
          "COTOPAXI INTL ECUADOR-->12.39",
          "CURTIS FIELD AIRPORT UNITED STATES-->20.0",
          "DENISON MUNICIPAL AIRPORT UNITED STATES-->14.15",
          "DIAMANTE DO NORTE BRAZIL-->23.85",
          "DINDIZA-GAZA MOZAMBIQUE-->25.76",
          "DORNBIRN AUSTRIA-->11.35",
          "EKATERINO-NIKOL'SKOE RUSSIA-->3.35",
          "ELLICOTT-B AFA UNITED STATES-->9.31",
          "EMBU KENYA-->20.37",
          "ESQUIPULAS GUATEMALA-->24.65",
          "FARO PORTUGAL-->19.11",
          "FUKUYAMA JAPAN-->15.22",
          "GARONS FRANCE-->16.02",
          "GASTONIA MUNICIPAL AIRPORT UNITED STATES-->16.19",
          "GHAZAOUET ALGERIA-->20.55",
          "GILLETTE-CAMPBELL CO. ARPT UNITED STATES-->8.5",
          "GRAND JUNCTION REGIONAL AIRPORT UNITED STATES-->12.4",
          "GROTON-NEW LONDON AIRPORT UNITED STATES-->12.81",
          "GUSHI CHINA-->17.05",
          "H L SONNY CALLAHAN AIRPORT UNITED STATES-->19.72",
          "HAMILTON AIRPORT AUSTRALIA-->12.91",
          "HANKO RUSSARO FINLAND-->7.33",
          "HEMARUKA AGCM CANADA-->4.29",
          "HEUKSANDO KOREA, SOUTH-->14.36",
          "HOBART AUSTRALIA-->13.21",
          "HOTING SWEDEN-->3.96",
          "IM POLINY OSIPENKO RUSSIA-->-0.99",
          "INARI VAYLA FINLAND-->-0.08",
          "INGENIERO ALBERTO ACUNA ONGAY INTL MEXICO-->28.24",
          "INOWROCLAW POLAND-->10.17",
          "IRAKO JAPAN-->16.31",
          "ISPARTA TURKEY-->14.69",
          "JABALPUR INDIA-->26.08",
          "JAKOBSHAVN LUFTHAVN GREENLAND-->-3.18",
          "JIWANI PAKISTAN-->26.13",
          "JOHN MERCER PIER UNITED STATES-->18.76",
          "KABINBURI THAILAND-->28.35",
          "KAPOSVAR HUNGARY-->13.14",
          "KEPPEL TONGA-->26.94",
          "KERKI TURKMENISTAN-->19.71",
          "KHALKH-GOL MONGOLIA-->1.48",
          "KIMCHAEK/SONGJIN KOREA, NORTH-->10.93",
          "KOK-SU KAZAKHSTAN-->10.56",
          "KOMATIDRAAI SOUTH AFRICA-->23.44",
          "KOSICE SLOVAKIA-->11.02",
          "KRABI THAILAND-->27.68",
          "KUUSAMO RUKATUNTURI FINLAND-->0.66",
          "KYZYL-SUU KYRGYZSTAN-->8.78",
          "LA ROCHE FRANCE-->14.23",
          "LAGOON CITY  ONT CANADA-->8.23",
          "LAL' SK RUSSIA-->3.31",
          "LANGEBAANWEG AFB SOUTH AFRICA-->16.96",
          "LANGLEY AFB AIRPORT UNITED STATES-->16.67",
          "LANGZHONG CHINA-->18.7",
          "LIMNOS GREECE-->17.69",
          "LINDESNES FYR NORWAY-->6.71",
          "LJUBAN' RUSSIA-->5.96",
          "LLOYDMINSTER CANADA-->4.05",
          "LOMSAK THAILAND-->27.92",
          "LONGKOU CHINA-->14.46",
          "LUCE COUNTY AIRPORT UNITED STATES-->6.77",
          "LUKOU CHINA-->17.18",
          "MAKEDONIA GREECE-->17.03",
          "MALA-BRANNAN SWEDEN-->3.73",
          "MALMO SWEDEN-->9.5",
          "MALUNG A SWEDEN-->5.48",
          "MAMOU GUINEA-->25.91",
          "MATAM/OURO SOGUI SENEGAL-->29.58",
          "MEDENINE TUNISIA-->21.52",
          "MILK RIVER RIDGE RESEVOIR CANADA-->6.02",
          "MINA SULTAN QABOOS OMAN-->28.55",
          "MONGU ZAMBIA-->26.39",
          "MONTCELO MUNI/ELLIS FLD AP UNITED STATES-->19.03",
          "MONTES CLAROS BRAZIL-->24.7",
          "MONTICELLO REGIONAL ARPT UNITED STATES-->-2.67",
          "MULLINGAR IRELAND-->10.39",
          "N'ZEREKORE/KONIA GUINEA-->25.93",
          "NADI INTL FIJI-->25.64",
          "NEW CANAL UNITED STATES-->22.49",
          "NEWPORT AP UNITED STATES-->7.75",
          "NIMES/COURBESSAC FRANCE-->16.38",
          "NONG PHLUB AGROMET THAILAND-->27.76",
          "NORTH PLATTE RGNL AP LEE BIRD FD AP UNITED STATES-->10.02",
          "NOTODDEN NORWAY-->7.67",
          "NOYABR' SK RUSSIA-->-1.57",
          "NUWASIB KUWAIT-->14.74",
          "ORANGEBURG MUNICIPAL ARPT UNITED STATES-->18.84",
          "ORENSE SPAIN-->16.29",
          "ORSK RUSSIA-->6.14",
          "OUED IRARA ALGERIA-->19.74",
          "OUTJO NAMIBIA-->22.45",
          "PAKSANE LAOS-->28.27",
          "PARANAIBA BRAZIL-->24.07",
          "PAVLOVSKIJ POSAD RUSSIA-->-2.74",
          "PETERBOROUGH TRENT U CANADA-->9.39",
          "PETISTRASK SWEDEN-->4.84",
          "PK RPDS MUNI-KONSHOK FD AP UNITED STATES-->6.39",
          "PONZA ISLAND ITALY-->14.07",
          "PORT ISABEL-CAMERON CO APT UNITED STATES-->24.62",
          "PORT LAVACA UNITED STATES-->22.35",
          "PUNTA INDIO B.A. ARGENTINA-->18.5",
          "PYHAJARVI OL OJAKYLA FINLAND-->3.01",
          "QUELIMANE MOZAMBIQUE-->25.88",
          "RANGE B UNITED STATES-->18.7",
          "RICH LAKE AGDM  ALTA CANADA-->3.39",
          "RICHMOND COUNTY AIRPORT UNITED STATES-->17.32",
          "RIVIERE AUX FEUILLES CANADA-->-3.46",
          "ROLLE PASS ITALY-->4.67",
          "RTISCEVO RUSSIA-->-3.38",
          "SALE MOROCCO-->17.87",
          "SAN ANTONIO OESTE AERO ARGENTINA-->16.61",
          "SAN JOAQUIN BOLIVIA-->29.35",
          "SANDHEADS CS CANADA-->11.21",
          "SANTA BERNARDINA INTL URUGUAY-->18.14",
          "SANTORINI GREECE-->20.29",
          "SAO BORJA BRAZIL-->23.95",
          "SAO CARLOS BRAZIL-->21.49",
          "SARI DASHT E NAZ IRAN-->19.05",
          "SCHAFFHAUSEN SWITZERLAND-->11.21",
          "SCORESBY RESEARCH INSTITUTE AUSTRALIA-->14.92",
          "SELEBI PHIKWE BOTSWANA-->20.93",
          "SELMA 13 WNW UNITED STATES-->18.33",
          "SEVEN PERSONS AGDM  ALTA CANADA-->7.15",
          "SEYMOUR ECUADOR-->28.96",
          "SHAHBAZ AB PAKISTAN-->24.81",
          "SHANWEI CHINA-->23.47",
          "SHIMIZU JAPAN-->18.05",
          "SIPING CHINA-->7.64",
          "SLATINA ROMANIA-->13.45",
          "SOLA/VANUA LAVA ISL VANUATU-->27.56",
          "SONGEA TANZANIA-->22.11",
          "SRIMANGAL BANGLADESH-->25.6",
          "ST. JOHNSBURY(AMOS) UNITED STATES-->9.03",
          "SUVARNABHUMI INTER AIRPORT THAILAND-->28.96",
          "TACOMA NARROWS AIRPORT UNITED STATES-->11.63",
          "TAKFA AGROMET THAILAND-->28.87",
          "TARO ISLAND SOLOMON ISLANDS-->28.06",
          "TAUA BRAZIL-->27.67",
          "TEMIR KAZAKHSTAN-->8.47",
          "TESLIN CANADA-->2.79",
          "TIHORECK RUSSIA-->13.1",
          "TIRASPOL MOLDOVA-->12.68",
          "UST' KUT RUSSIA-->-1.14",
          "UTQIAĠVIK FORMERLY BARROW 4 ENE UNITED STATES-->-8.54",
          "UTSUNOMIYA JAPAN-->17.49",
          "UTTARADIT THAILAND-->28.79",
          "VAVAU INTL TONGA-->25.38",
          "VERBIER-LES ATTLELAS SWITZERLAND-->0.49",
          "WATERKLOOF AFB SOUTH AFRICA-->20.51",
          "WATSON LAKE CANADA-->0.67",
          "WIELUN POLAND-->10.58",
          "WILLIAMS 35 NNW UNITED STATES-->10.5",
          "WIOA MUNI-MAX CONRAD FD AP UNITED STATES-->9.73",
          "WOKAL FIELD/GLASGOW INTL AIRPORT UNITED STATES-->7.59",
          "WOLTER MONGINSIDI INDONESIA-->28.16",
          "YAN AN CHINA-->10.26",
          "YEAGER AIRPORT UNITED STATES-->13.77",
          "YELLOWSTONE AIRPORT UNITED STATES-->9.92",
          "YEOSU KOREA, SOUTH-->25.28",
          "YEOTMAL INDIA-->29.0",
          "YOKKAICHI JAPAN-->15.04",
          "YUANMOU CHINA-->20.87",
          "ZAGREB/GRIC CROATIA-->14.77",
          "ZIAR NAD HRONOM SLOVAKIA-->12.21",
          "ZILANI LATVIA-->8.09"
         ],
         "type": "scattergeo"
        }
       ],
       "layout": {
        "geo": {
         "resolution": 110,
         "scope": "world"
        },
        "height": 600,
        "template": {
         "data": {
          "bar": [
           {
            "error_x": {
             "color": "#2a3f5f"
            },
            "error_y": {
             "color": "#2a3f5f"
            },
            "marker": {
             "line": {
              "color": "#E5ECF6",
              "width": 0.5
             },
             "pattern": {
              "fillmode": "overlay",
              "size": 10,
              "solidity": 0.2
             }
            },
            "type": "bar"
           }
          ],
          "barpolar": [
           {
            "marker": {
             "line": {
              "color": "#E5ECF6",
              "width": 0.5
             },
             "pattern": {
              "fillmode": "overlay",
              "size": 10,
              "solidity": 0.2
             }
            },
            "type": "barpolar"
           }
          ],
          "carpet": [
           {
            "aaxis": {
             "endlinecolor": "#2a3f5f",
             "gridcolor": "white",
             "linecolor": "white",
             "minorgridcolor": "white",
             "startlinecolor": "#2a3f5f"
            },
            "baxis": {
             "endlinecolor": "#2a3f5f",
             "gridcolor": "white",
             "linecolor": "white",
             "minorgridcolor": "white",
             "startlinecolor": "#2a3f5f"
            },
            "type": "carpet"
           }
          ],
          "choropleth": [
           {
            "colorbar": {
             "outlinewidth": 0,
             "ticks": ""
            },
            "type": "choropleth"
           }
          ],
          "contour": [
           {
            "colorbar": {
             "outlinewidth": 0,
             "ticks": ""
            },
            "colorscale": [
             [
              0,
              "#0d0887"
             ],
             [
              0.1111111111111111,
              "#46039f"
             ],
             [
              0.2222222222222222,
              "#7201a8"
             ],
             [
              0.3333333333333333,
              "#9c179e"
             ],
             [
              0.4444444444444444,
              "#bd3786"
             ],
             [
              0.5555555555555556,
              "#d8576b"
             ],
             [
              0.6666666666666666,
              "#ed7953"
             ],
             [
              0.7777777777777778,
              "#fb9f3a"
             ],
             [
              0.8888888888888888,
              "#fdca26"
             ],
             [
              1,
              "#f0f921"
             ]
            ],
            "type": "contour"
           }
          ],
          "contourcarpet": [
           {
            "colorbar": {
             "outlinewidth": 0,
             "ticks": ""
            },
            "type": "contourcarpet"
           }
          ],
          "heatmap": [
           {
            "colorbar": {
             "outlinewidth": 0,
             "ticks": ""
            },
            "colorscale": [
             [
              0,
              "#0d0887"
             ],
             [
              0.1111111111111111,
              "#46039f"
             ],
             [
              0.2222222222222222,
              "#7201a8"
             ],
             [
              0.3333333333333333,
              "#9c179e"
             ],
             [
              0.4444444444444444,
              "#bd3786"
             ],
             [
              0.5555555555555556,
              "#d8576b"
             ],
             [
              0.6666666666666666,
              "#ed7953"
             ],
             [
              0.7777777777777778,
              "#fb9f3a"
             ],
             [
              0.8888888888888888,
              "#fdca26"
             ],
             [
              1,
              "#f0f921"
             ]
            ],
            "type": "heatmap"
           }
          ],
          "heatmapgl": [
           {
            "colorbar": {
             "outlinewidth": 0,
             "ticks": ""
            },
            "colorscale": [
             [
              0,
              "#0d0887"
             ],
             [
              0.1111111111111111,
              "#46039f"
             ],
             [
              0.2222222222222222,
              "#7201a8"
             ],
             [
              0.3333333333333333,
              "#9c179e"
             ],
             [
              0.4444444444444444,
              "#bd3786"
             ],
             [
              0.5555555555555556,
              "#d8576b"
             ],
             [
              0.6666666666666666,
              "#ed7953"
             ],
             [
              0.7777777777777778,
              "#fb9f3a"
             ],
             [
              0.8888888888888888,
              "#fdca26"
             ],
             [
              1,
              "#f0f921"
             ]
            ],
            "type": "heatmapgl"
           }
          ],
          "histogram": [
           {
            "marker": {
             "pattern": {
              "fillmode": "overlay",
              "size": 10,
              "solidity": 0.2
             }
            },
            "type": "histogram"
           }
          ],
          "histogram2d": [
           {
            "colorbar": {
             "outlinewidth": 0,
             "ticks": ""
            },
            "colorscale": [
             [
              0,
              "#0d0887"
             ],
             [
              0.1111111111111111,
              "#46039f"
             ],
             [
              0.2222222222222222,
              "#7201a8"
             ],
             [
              0.3333333333333333,
              "#9c179e"
             ],
             [
              0.4444444444444444,
              "#bd3786"
             ],
             [
              0.5555555555555556,
              "#d8576b"
             ],
             [
              0.6666666666666666,
              "#ed7953"
             ],
             [
              0.7777777777777778,
              "#fb9f3a"
             ],
             [
              0.8888888888888888,
              "#fdca26"
             ],
             [
              1,
              "#f0f921"
             ]
            ],
            "type": "histogram2d"
           }
          ],
          "histogram2dcontour": [
           {
            "colorbar": {
             "outlinewidth": 0,
             "ticks": ""
            },
            "colorscale": [
             [
              0,
              "#0d0887"
             ],
             [
              0.1111111111111111,
              "#46039f"
             ],
             [
              0.2222222222222222,
              "#7201a8"
             ],
             [
              0.3333333333333333,
              "#9c179e"
             ],
             [
              0.4444444444444444,
              "#bd3786"
             ],
             [
              0.5555555555555556,
              "#d8576b"
             ],
             [
              0.6666666666666666,
              "#ed7953"
             ],
             [
              0.7777777777777778,
              "#fb9f3a"
             ],
             [
              0.8888888888888888,
              "#fdca26"
             ],
             [
              1,
              "#f0f921"
             ]
            ],
            "type": "histogram2dcontour"
           }
          ],
          "mesh3d": [
           {
            "colorbar": {
             "outlinewidth": 0,
             "ticks": ""
            },
            "type": "mesh3d"
           }
          ],
          "parcoords": [
           {
            "line": {
             "colorbar": {
              "outlinewidth": 0,
              "ticks": ""
             }
            },
            "type": "parcoords"
           }
          ],
          "pie": [
           {
            "automargin": true,
            "type": "pie"
           }
          ],
          "scatter": [
           {
            "fillpattern": {
             "fillmode": "overlay",
             "size": 10,
             "solidity": 0.2
            },
            "type": "scatter"
           }
          ],
          "scatter3d": [
           {
            "line": {
             "colorbar": {
              "outlinewidth": 0,
              "ticks": ""
             }
            },
            "marker": {
             "colorbar": {
              "outlinewidth": 0,
              "ticks": ""
             }
            },
            "type": "scatter3d"
           }
          ],
          "scattercarpet": [
           {
            "marker": {
             "colorbar": {
              "outlinewidth": 0,
              "ticks": ""
             }
            },
            "type": "scattercarpet"
           }
          ],
          "scattergeo": [
           {
            "marker": {
             "colorbar": {
              "outlinewidth": 0,
              "ticks": ""
             }
            },
            "type": "scattergeo"
           }
          ],
          "scattergl": [
           {
            "marker": {
             "colorbar": {
              "outlinewidth": 0,
              "ticks": ""
             }
            },
            "type": "scattergl"
           }
          ],
          "scattermapbox": [
           {
            "marker": {
             "colorbar": {
              "outlinewidth": 0,
              "ticks": ""
             }
            },
            "type": "scattermapbox"
           }
          ],
          "scatterpolar": [
           {
            "marker": {
             "colorbar": {
              "outlinewidth": 0,
              "ticks": ""
             }
            },
            "type": "scatterpolar"
           }
          ],
          "scatterpolargl": [
           {
            "marker": {
             "colorbar": {
              "outlinewidth": 0,
              "ticks": ""
             }
            },
            "type": "scatterpolargl"
           }
          ],
          "scatterternary": [
           {
            "marker": {
             "colorbar": {
              "outlinewidth": 0,
              "ticks": ""
             }
            },
            "type": "scatterternary"
           }
          ],
          "surface": [
           {
            "colorbar": {
             "outlinewidth": 0,
             "ticks": ""
            },
            "colorscale": [
             [
              0,
              "#0d0887"
             ],
             [
              0.1111111111111111,
              "#46039f"
             ],
             [
              0.2222222222222222,
              "#7201a8"
             ],
             [
              0.3333333333333333,
              "#9c179e"
             ],
             [
              0.4444444444444444,
              "#bd3786"
             ],
             [
              0.5555555555555556,
              "#d8576b"
             ],
             [
              0.6666666666666666,
              "#ed7953"
             ],
             [
              0.7777777777777778,
              "#fb9f3a"
             ],
             [
              0.8888888888888888,
              "#fdca26"
             ],
             [
              1,
              "#f0f921"
             ]
            ],
            "type": "surface"
           }
          ],
          "table": [
           {
            "cells": {
             "fill": {
              "color": "#EBF0F8"
             },
             "line": {
              "color": "white"
             }
            },
            "header": {
             "fill": {
              "color": "#C8D4E3"
             },
             "line": {
              "color": "white"
             }
            },
            "type": "table"
           }
          ]
         },
         "layout": {
          "annotationdefaults": {
           "arrowcolor": "#2a3f5f",
           "arrowhead": 0,
           "arrowwidth": 1
          },
          "autotypenumbers": "strict",
          "coloraxis": {
           "colorbar": {
            "outlinewidth": 0,
            "ticks": ""
           }
          },
          "colorscale": {
           "diverging": [
            [
             0,
             "#8e0152"
            ],
            [
             0.1,
             "#c51b7d"
            ],
            [
             0.2,
             "#de77ae"
            ],
            [
             0.3,
             "#f1b6da"
            ],
            [
             0.4,
             "#fde0ef"
            ],
            [
             0.5,
             "#f7f7f7"
            ],
            [
             0.6,
             "#e6f5d0"
            ],
            [
             0.7,
             "#b8e186"
            ],
            [
             0.8,
             "#7fbc41"
            ],
            [
             0.9,
             "#4d9221"
            ],
            [
             1,
             "#276419"
            ]
           ],
           "sequential": [
            [
             0,
             "#0d0887"
            ],
            [
             0.1111111111111111,
             "#46039f"
            ],
            [
             0.2222222222222222,
             "#7201a8"
            ],
            [
             0.3333333333333333,
             "#9c179e"
            ],
            [
             0.4444444444444444,
             "#bd3786"
            ],
            [
             0.5555555555555556,
             "#d8576b"
            ],
            [
             0.6666666666666666,
             "#ed7953"
            ],
            [
             0.7777777777777778,
             "#fb9f3a"
            ],
            [
             0.8888888888888888,
             "#fdca26"
            ],
            [
             1,
             "#f0f921"
            ]
           ],
           "sequentialminus": [
            [
             0,
             "#0d0887"
            ],
            [
             0.1111111111111111,
             "#46039f"
            ],
            [
             0.2222222222222222,
             "#7201a8"
            ],
            [
             0.3333333333333333,
             "#9c179e"
            ],
            [
             0.4444444444444444,
             "#bd3786"
            ],
            [
             0.5555555555555556,
             "#d8576b"
            ],
            [
             0.6666666666666666,
             "#ed7953"
            ],
            [
             0.7777777777777778,
             "#fb9f3a"
            ],
            [
             0.8888888888888888,
             "#fdca26"
            ],
            [
             1,
             "#f0f921"
            ]
           ]
          },
          "colorway": [
           "#636efa",
           "#EF553B",
           "#00cc96",
           "#ab63fa",
           "#FFA15A",
           "#19d3f3",
           "#FF6692",
           "#B6E880",
           "#FF97FF",
           "#FECB52"
          ],
          "font": {
           "color": "#2a3f5f"
          },
          "geo": {
           "bgcolor": "white",
           "lakecolor": "white",
           "landcolor": "#E5ECF6",
           "showlakes": true,
           "showland": true,
           "subunitcolor": "white"
          },
          "hoverlabel": {
           "align": "left"
          },
          "hovermode": "closest",
          "mapbox": {
           "style": "light"
          },
          "paper_bgcolor": "white",
          "plot_bgcolor": "#E5ECF6",
          "polar": {
           "angularaxis": {
            "gridcolor": "white",
            "linecolor": "white",
            "ticks": ""
           },
           "bgcolor": "#E5ECF6",
           "radialaxis": {
            "gridcolor": "white",
            "linecolor": "white",
            "ticks": ""
           }
          },
          "scene": {
           "xaxis": {
            "backgroundcolor": "#E5ECF6",
            "gridcolor": "white",
            "gridwidth": 2,
            "linecolor": "white",
            "showbackground": true,
            "ticks": "",
            "zerolinecolor": "white"
           },
           "yaxis": {
            "backgroundcolor": "#E5ECF6",
            "gridcolor": "white",
            "gridwidth": 2,
            "linecolor": "white",
            "showbackground": true,
            "ticks": "",
            "zerolinecolor": "white"
           },
           "zaxis": {
            "backgroundcolor": "#E5ECF6",
            "gridcolor": "white",
            "gridwidth": 2,
            "linecolor": "white",
            "showbackground": true,
            "ticks": "",
            "zerolinecolor": "white"
           }
          },
          "shapedefaults": {
           "line": {
            "color": "#2a3f5f"
           }
          },
          "ternary": {
           "aaxis": {
            "gridcolor": "white",
            "linecolor": "white",
            "ticks": ""
           },
           "baxis": {
            "gridcolor": "white",
            "linecolor": "white",
            "ticks": ""
           },
           "bgcolor": "#E5ECF6",
           "caxis": {
            "gridcolor": "white",
            "linecolor": "white",
            "ticks": ""
           }
          },
          "title": {
           "x": 0.05
          },
          "xaxis": {
           "automargin": true,
           "gridcolor": "white",
           "linecolor": "white",
           "ticks": "",
           "title": {
            "standoff": 15
           },
           "zerolinecolor": "white",
           "zerolinewidth": 2
          },
          "yaxis": {
           "automargin": true,
           "gridcolor": "white",
           "linecolor": "white",
           "ticks": "",
           "title": {
            "standoff": 15
           },
           "zerolinecolor": "white",
           "zerolinewidth": 2
          }
         }
        },
        "width": 1400
       }
      }
     },
     "metadata": {},
     "output_type": "display_data"
    }
   ],
   "source": [
    "import plotly.express as px\n",
    "import plotly.graph_objects as go\n",
    "import pandas as pd\n",
    "\n",
    "geo_df = weather_df[weather_df['Year']==2023].groupby('STATION NAME').agg({'TEMP':'mean','LAT':'max','LON':'max','COUNTRY NAME':'max'}).reset_index()\n",
    "geo_df['TEMP']=round(geo_df['TEMP'],2)\n",
    "geo_df['Rank']=geo_df['TEMP'].rank(ascending=False, method='dense')\n",
    "geo_df['text'] = geo_df['STATION NAME'] + ' ' + geo_df['COUNTRY NAME'] + '-->' + geo_df['TEMP'].astype(str)\n",
    "\n",
    "fig = go.Figure(data=go.Scattergeo(\n",
    "        text = geo_df['text'],\n",
    "        lat = geo_df['LAT'],\n",
    "        lon = geo_df['LON'],\n",
    "        mode = 'markers',\n",
    "        marker_color = geo_df['Rank'],\n",
    "        ))\n",
    "\n",
    "fig.update_layout(\n",
    "        geo_scope='world',\n",
    "        geo = dict(resolution = 110),\n",
    "        height=600,  \n",
    "        width=1400,  \n",
    "    )\n",
    "fig.show()"
   ]
  },
  {
   "cell_type": "code",
   "execution_count": 35,
   "metadata": {},
   "outputs": [],
   "source": [
    "# save the all the dataframe \n",
    "grouped_by_date.to_csv('../data/aggregated/aggregated_by_date.csv',index=False)\n",
    "grouped_by_year.to_csv('../data/aggregated/aggregated_by_year.csv',index=False)\n",
    "grouped_by_seasons.to_csv('../data/aggregated/aggregated_by_season.csv',index=False)"
   ]
  },
  {
   "cell_type": "code",
   "execution_count": null,
   "metadata": {},
   "outputs": [],
   "source": []
  }
 ],
 "metadata": {
  "kernelspec": {
   "display_name": "Python 3",
   "language": "python",
   "name": "python3"
  },
  "language_info": {
   "codemirror_mode": {
    "name": "ipython",
    "version": 3
   },
   "file_extension": ".py",
   "mimetype": "text/x-python",
   "name": "python",
   "nbconvert_exporter": "python",
   "pygments_lexer": "ipython3",
   "version": "3.12.0"
  }
 },
 "nbformat": 4,
 "nbformat_minor": 2
}
