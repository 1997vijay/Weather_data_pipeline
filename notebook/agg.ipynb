{
 "cells": [
  {
   "cell_type": "code",
   "execution_count": 17,
   "metadata": {},
   "outputs": [],
   "source": [
    "# import required libraries\n",
    "import pandas as pd\n",
    "import matplotlib.pyplot as plt\n",
    "import seaborn as sns\n",
    "\n",
    "import warnings\n",
    "warnings.filterwarnings('ignore')"
   ]
  },
  {
   "cell_type": "code",
   "execution_count": 18,
   "metadata": {},
   "outputs": [
    {
     "data": {
      "text/html": [
       "<div>\n",
       "<style scoped>\n",
       "    .dataframe tbody tr th:only-of-type {\n",
       "        vertical-align: middle;\n",
       "    }\n",
       "\n",
       "    .dataframe tbody tr th {\n",
       "        vertical-align: top;\n",
       "    }\n",
       "\n",
       "    .dataframe thead th {\n",
       "        text-align: right;\n",
       "    }\n",
       "</style>\n",
       "<table border=\"1\" class=\"dataframe\">\n",
       "  <thead>\n",
       "    <tr style=\"text-align: right;\">\n",
       "      <th></th>\n",
       "      <th>DATE</th>\n",
       "      <th>STN</th>\n",
       "      <th>STATION NAME</th>\n",
       "      <th>COUNTRY NAME</th>\n",
       "      <th>LAT</th>\n",
       "      <th>LON</th>\n",
       "      <th>TEMP</th>\n",
       "      <th>DEWP</th>\n",
       "      <th>SLP</th>\n",
       "      <th>STP</th>\n",
       "      <th>...</th>\n",
       "      <th>Season</th>\n",
       "      <th>TempChange</th>\n",
       "      <th>WindCategory</th>\n",
       "      <th>VisibilityCategory</th>\n",
       "      <th>Fog</th>\n",
       "      <th>Rain</th>\n",
       "      <th>Snow</th>\n",
       "      <th>Hail</th>\n",
       "      <th>Thunder</th>\n",
       "      <th>Tornado</th>\n",
       "    </tr>\n",
       "  </thead>\n",
       "  <tbody>\n",
       "    <tr>\n",
       "      <th>0</th>\n",
       "      <td>1929-10-01</td>\n",
       "      <td>30050</td>\n",
       "      <td>LERWICK</td>\n",
       "      <td>UNITED KINGDOM</td>\n",
       "      <td>60.133</td>\n",
       "      <td>-1.183</td>\n",
       "      <td>7.39</td>\n",
       "      <td>40.0</td>\n",
       "      <td>1001.6</td>\n",
       "      <td>9999.9</td>\n",
       "      <td>...</td>\n",
       "      <td>Autumn</td>\n",
       "      <td>3.89</td>\n",
       "      <td>Low</td>\n",
       "      <td>Moderate</td>\n",
       "      <td>0</td>\n",
       "      <td>NaN</td>\n",
       "      <td>NaN</td>\n",
       "      <td>NaN</td>\n",
       "      <td>NaN</td>\n",
       "      <td>NaN</td>\n",
       "    </tr>\n",
       "    <tr>\n",
       "      <th>1</th>\n",
       "      <td>1929-10-02</td>\n",
       "      <td>30050</td>\n",
       "      <td>LERWICK</td>\n",
       "      <td>UNITED KINGDOM</td>\n",
       "      <td>60.133</td>\n",
       "      <td>-1.183</td>\n",
       "      <td>9.72</td>\n",
       "      <td>45.2</td>\n",
       "      <td>977.6</td>\n",
       "      <td>9999.9</td>\n",
       "      <td>...</td>\n",
       "      <td>Autumn</td>\n",
       "      <td>5.00</td>\n",
       "      <td>High</td>\n",
       "      <td>Low</td>\n",
       "      <td>1</td>\n",
       "      <td>0.0</td>\n",
       "      <td>0.0</td>\n",
       "      <td>0.0</td>\n",
       "      <td>0.0</td>\n",
       "      <td>NaN</td>\n",
       "    </tr>\n",
       "    <tr>\n",
       "      <th>2</th>\n",
       "      <td>1929-10-03</td>\n",
       "      <td>30050</td>\n",
       "      <td>LERWICK</td>\n",
       "      <td>UNITED KINGDOM</td>\n",
       "      <td>60.133</td>\n",
       "      <td>-1.183</td>\n",
       "      <td>9.44</td>\n",
       "      <td>41.7</td>\n",
       "      <td>975.7</td>\n",
       "      <td>9999.9</td>\n",
       "      <td>...</td>\n",
       "      <td>Autumn</td>\n",
       "      <td>3.94</td>\n",
       "      <td>Medium</td>\n",
       "      <td>Moderate</td>\n",
       "      <td>1</td>\n",
       "      <td>0.0</td>\n",
       "      <td>0.0</td>\n",
       "      <td>0.0</td>\n",
       "      <td>0.0</td>\n",
       "      <td>NaN</td>\n",
       "    </tr>\n",
       "  </tbody>\n",
       "</table>\n",
       "<p>3 rows × 32 columns</p>\n",
       "</div>"
      ],
      "text/plain": [
       "         DATE    STN STATION NAME    COUNTRY NAME     LAT    LON  TEMP  DEWP  \\\n",
       "0  1929-10-01  30050      LERWICK  UNITED KINGDOM  60.133 -1.183  7.39  40.0   \n",
       "1  1929-10-02  30050      LERWICK  UNITED KINGDOM  60.133 -1.183  9.72  45.2   \n",
       "2  1929-10-03  30050      LERWICK  UNITED KINGDOM  60.133 -1.183  9.44  41.7   \n",
       "\n",
       "      SLP     STP  ...  Season  TempChange  WindCategory  VisibilityCategory  \\\n",
       "0  1001.6  9999.9  ...  Autumn        3.89           Low            Moderate   \n",
       "1   977.6  9999.9  ...  Autumn        5.00          High                 Low   \n",
       "2   975.7  9999.9  ...  Autumn        3.94        Medium            Moderate   \n",
       "\n",
       "   Fog  Rain Snow  Hail  Thunder Tornado  \n",
       "0    0   NaN  NaN   NaN      NaN     NaN  \n",
       "1    1   0.0  0.0   0.0      0.0     NaN  \n",
       "2    1   0.0  0.0   0.0      0.0     NaN  \n",
       "\n",
       "[3 rows x 32 columns]"
      ]
     },
     "execution_count": 18,
     "metadata": {},
     "output_type": "execute_result"
    }
   ],
   "source": [
    "# read processed weather file\n",
    "weather_df=pd.read_csv('../data/processed/WEATHER_PROCESSED.csv')\n",
    "weather_df.head(3)"
   ]
  },
  {
   "cell_type": "code",
   "execution_count": 19,
   "metadata": {},
   "outputs": [],
   "source": [
    "# get year\n",
    "weather_df['VisibilityCategory']=weather_df['VisibilityCategory'].astype(str)\n",
    "weather_df['WindCategory']=weather_df['WindCategory'].astype(str)\n",
    "weather_df['TEMP']=round(weather_df['TEMP'],2)\n",
    "weather_df['Year']=pd.to_datetime(weather_df['DATE']).dt.year"
   ]
  },
  {
   "cell_type": "code",
   "execution_count": 20,
   "metadata": {},
   "outputs": [
    {
     "data": {
      "text/html": [
       "<div>\n",
       "<style scoped>\n",
       "    .dataframe tbody tr th:only-of-type {\n",
       "        vertical-align: middle;\n",
       "    }\n",
       "\n",
       "    .dataframe tbody tr th {\n",
       "        vertical-align: top;\n",
       "    }\n",
       "\n",
       "    .dataframe thead th {\n",
       "        text-align: right;\n",
       "    }\n",
       "</style>\n",
       "<table border=\"1\" class=\"dataframe\">\n",
       "  <thead>\n",
       "    <tr style=\"text-align: right;\">\n",
       "      <th></th>\n",
       "      <th>DATE</th>\n",
       "      <th>Year</th>\n",
       "      <th>TEMP</th>\n",
       "      <th>VISIB</th>\n",
       "      <th>TempChange</th>\n",
       "      <th>WindCategory</th>\n",
       "      <th>VisibilityCategory</th>\n",
       "    </tr>\n",
       "  </thead>\n",
       "  <tbody>\n",
       "    <tr>\n",
       "      <th>0</th>\n",
       "      <td>1929-08-01</td>\n",
       "      <td>1929</td>\n",
       "      <td>14.56</td>\n",
       "      <td>6.7</td>\n",
       "      <td>6.07</td>\n",
       "      <td>High</td>\n",
       "      <td>Very Low</td>\n",
       "    </tr>\n",
       "    <tr>\n",
       "      <th>1</th>\n",
       "      <td>1929-08-02</td>\n",
       "      <td>1929</td>\n",
       "      <td>13.29</td>\n",
       "      <td>4.8</td>\n",
       "      <td>7.90</td>\n",
       "      <td>Medium</td>\n",
       "      <td>Very Low</td>\n",
       "    </tr>\n",
       "    <tr>\n",
       "      <th>2</th>\n",
       "      <td>1929-08-03</td>\n",
       "      <td>1929</td>\n",
       "      <td>13.70</td>\n",
       "      <td>6.7</td>\n",
       "      <td>7.26</td>\n",
       "      <td>Medium</td>\n",
       "      <td>Very Low</td>\n",
       "    </tr>\n",
       "  </tbody>\n",
       "</table>\n",
       "</div>"
      ],
      "text/plain": [
       "         DATE  Year   TEMP  VISIB  TempChange WindCategory VisibilityCategory\n",
       "0  1929-08-01  1929  14.56    6.7        6.07         High           Very Low\n",
       "1  1929-08-02  1929  13.29    4.8        7.90       Medium           Very Low\n",
       "2  1929-08-03  1929  13.70    6.7        7.26       Medium           Very Low"
      ]
     },
     "execution_count": 20,
     "metadata": {},
     "output_type": "execute_result"
    }
   ],
   "source": [
    "# aggregate based on date\n",
    "grouped_by_date=weather_df.groupby('DATE').agg({\n",
    "    'Year':'max',\n",
    "    \"TEMP\":\"mean\",\n",
    "    'VISIB':'mean',\n",
    "    'TempChange':\"mean\",\n",
    "    'WindCategory':'max',\n",
    "    'VisibilityCategory':'max'\n",
    "}).reset_index()\n",
    "grouped_by_date['TEMP']=round(grouped_by_date['TEMP'],2)\n",
    "grouped_by_date['VISIB']=round(grouped_by_date['VISIB'],2)\n",
    "grouped_by_date['TempChange']=round(grouped_by_date['TempChange'],2)\n",
    "grouped_by_date.head(3)"
   ]
  },
  {
   "cell_type": "code",
   "execution_count": 21,
   "metadata": {},
   "outputs": [],
   "source": [
    "# save the data\n",
    "grouped_by_date.to_csv('../data/aggregated/aggregated_by_date.csv',index=False)"
   ]
  },
  {
   "cell_type": "code",
   "execution_count": 22,
   "metadata": {},
   "outputs": [
    {
     "data": {
      "text/html": [
       "<div>\n",
       "<style scoped>\n",
       "    .dataframe tbody tr th:only-of-type {\n",
       "        vertical-align: middle;\n",
       "    }\n",
       "\n",
       "    .dataframe tbody tr th {\n",
       "        vertical-align: top;\n",
       "    }\n",
       "\n",
       "    .dataframe thead th {\n",
       "        text-align: right;\n",
       "    }\n",
       "</style>\n",
       "<table border=\"1\" class=\"dataframe\">\n",
       "  <thead>\n",
       "    <tr style=\"text-align: right;\">\n",
       "      <th></th>\n",
       "      <th>Year</th>\n",
       "      <th>TEMP</th>\n",
       "      <th>VISIB</th>\n",
       "      <th>TempChange</th>\n",
       "      <th>Rank</th>\n",
       "    </tr>\n",
       "  </thead>\n",
       "  <tbody>\n",
       "    <tr>\n",
       "      <th>0</th>\n",
       "      <td>1929</td>\n",
       "      <td>9.58</td>\n",
       "      <td>6.97</td>\n",
       "      <td>8.20</td>\n",
       "      <td>77.0</td>\n",
       "    </tr>\n",
       "    <tr>\n",
       "      <th>1</th>\n",
       "      <td>1930</td>\n",
       "      <td>9.92</td>\n",
       "      <td>7.05</td>\n",
       "      <td>6.80</td>\n",
       "      <td>69.0</td>\n",
       "    </tr>\n",
       "    <tr>\n",
       "      <th>2</th>\n",
       "      <td>1931</td>\n",
       "      <td>9.79</td>\n",
       "      <td>9.17</td>\n",
       "      <td>3.76</td>\n",
       "      <td>73.0</td>\n",
       "    </tr>\n",
       "  </tbody>\n",
       "</table>\n",
       "</div>"
      ],
      "text/plain": [
       "   Year  TEMP  VISIB  TempChange  Rank\n",
       "0  1929  9.58   6.97        8.20  77.0\n",
       "1  1930  9.92   7.05        6.80  69.0\n",
       "2  1931  9.79   9.17        3.76  73.0"
      ]
     },
     "execution_count": 22,
     "metadata": {},
     "output_type": "execute_result"
    }
   ],
   "source": [
    "# aggregate based on year\n",
    "grouped_by_year=weather_df.groupby('Year').agg({\n",
    "    \"TEMP\":\"mean\",\n",
    "    'VISIB':'mean',\n",
    "    'TempChange':\"mean\",\n",
    "}).reset_index()\n",
    "\n",
    "# applying the dense rank to create the color for the bar graph\n",
    "grouped_by_year['Rank'] = grouped_by_year['TEMP'].rank(ascending=False, method='dense')\n",
    "grouped_by_year['TEMP']=round(grouped_by_year['TEMP'],2)\n",
    "grouped_by_year['VISIB']=round(grouped_by_year['VISIB'],2)\n",
    "grouped_by_year['TempChange']=round(grouped_by_year['TempChange'],2)\n",
    "grouped_by_year.head(3)"
   ]
  },
  {
   "cell_type": "code",
   "execution_count": 23,
   "metadata": {},
   "outputs": [],
   "source": [
    "def assign_color(row):\n",
    "    if row==1:\n",
    "        return 'red'\n",
    "    elif row==2:\n",
    "        return 'orange'\n",
    "    elif row==grouped_by_year['Rank'].max():\n",
    "        return 'green'\n",
    "    else:\n",
    "        return 'gray'\n",
    "\n",
    "# assing the colors to highlight the highest, second highest and lowest temprature bar\n",
    "grouped_by_year['Colors']=grouped_by_year['Rank'].apply(lambda row: 'red' if row == 1 else ('orange' if row == 2 else ('green' if row == grouped_by_year['Rank'].max() else 'gray')))"
   ]
  },
  {
   "cell_type": "code",
   "execution_count": 24,
   "metadata": {},
   "outputs": [],
   "source": [
    "# save the data\n",
    "grouped_by_year.to_csv('../data/aggregated/aggregated_by_year.csv',index=False)"
   ]
  },
  {
   "cell_type": "code",
   "execution_count": 25,
   "metadata": {},
   "outputs": [
    {
     "data": {
      "image/png": "[encoded data removed]",
      "text/plain": [
       "<Figure size 3000x1000 with 1 Axes>"
      ]
     },
     "metadata": {},
     "output_type": "display_data"
    }
   ],
   "source": [
    "plt.figure(figsize =(30, 10)) \n",
    "\n",
    "# Plot the bar chart with the specified color palette\n",
    "plots=sns.barplot(x=\"Year\", y=\"TEMP\", data=grouped_by_year, palette=grouped_by_year['Colors'].tolist())\n",
    "\n",
    "# plots.annotate(...): This function is used to annotate each bar with its height. It adds a text label to each bar, displaying its height.\n",
    "# format(bar.get_height(), ''): Formats the height of the bar as a string.\n",
    "# (bar.get_x() + bar.get_width() / 2, bar.get_height()): Specifies the position where the text label will be placed, which is at the top center of each bar.\n",
    "# ha='center', va='center': Aligns the text label at the center of the specified position.\n",
    "# size=6: Sets the font size of the text label to 6 points.\n",
    "# xytext=(0, 8): Offsets the text label by (0, 8) points from the specified position.\n",
    "# textcoords='offset points': Specifies that the positioning is done using offset points.\n",
    "\n",
    "for bar in plots.patches: \n",
    "    plots.annotate(format(bar.get_height(), ''),  \n",
    "                (bar.get_x() + bar.get_width() / 2,  \n",
    "                bar.get_height()),ha='center', va='center', \n",
    "                size=6, xytext=(0, 8), \n",
    "                textcoords='offset points')\n",
    "plt.title('Average Temprature for each year')\n",
    "plt.text(0.5, 1, '1. Red --> Year with highest temprature \\n 2. Orange --> Year with second highest temprature \\n 3. Green--> Year with minimum temprature', size=10, ha='center', va='center', transform=plt.gcf().transFigure)\n",
    "plt.xticks(rotation=90)\n",
    "plt.show()"
   ]
  },
  {
   "cell_type": "code",
   "execution_count": 26,
   "metadata": {},
   "outputs": [
    {
     "data": {
      "text/html": [
       "<div>\n",
       "<style scoped>\n",
       "    .dataframe tbody tr th:only-of-type {\n",
       "        vertical-align: middle;\n",
       "    }\n",
       "\n",
       "    .dataframe tbody tr th {\n",
       "        vertical-align: top;\n",
       "    }\n",
       "\n",
       "    .dataframe thead th {\n",
       "        text-align: right;\n",
       "    }\n",
       "</style>\n",
       "<table border=\"1\" class=\"dataframe\">\n",
       "  <thead>\n",
       "    <tr style=\"text-align: right;\">\n",
       "      <th></th>\n",
       "      <th>Season</th>\n",
       "      <th>Year</th>\n",
       "      <th>TEMP</th>\n",
       "      <th>VISIB</th>\n",
       "      <th>TempChange</th>\n",
       "    </tr>\n",
       "  </thead>\n",
       "  <tbody>\n",
       "    <tr>\n",
       "      <th>0</th>\n",
       "      <td>Autumn</td>\n",
       "      <td>1929</td>\n",
       "      <td>9.98</td>\n",
       "      <td>7.28</td>\n",
       "      <td>10.02</td>\n",
       "    </tr>\n",
       "    <tr>\n",
       "      <th>1</th>\n",
       "      <td>Autumn</td>\n",
       "      <td>1930</td>\n",
       "      <td>10.71</td>\n",
       "      <td>7.26</td>\n",
       "      <td>5.17</td>\n",
       "    </tr>\n",
       "    <tr>\n",
       "      <th>2</th>\n",
       "      <td>Autumn</td>\n",
       "      <td>1931</td>\n",
       "      <td>10.11</td>\n",
       "      <td>7.92</td>\n",
       "      <td>3.74</td>\n",
       "    </tr>\n",
       "    <tr>\n",
       "      <th>3</th>\n",
       "      <td>Autumn</td>\n",
       "      <td>1932</td>\n",
       "      <td>10.29</td>\n",
       "      <td>8.87</td>\n",
       "      <td>10.40</td>\n",
       "    </tr>\n",
       "    <tr>\n",
       "      <th>4</th>\n",
       "      <td>Autumn</td>\n",
       "      <td>1933</td>\n",
       "      <td>6.70</td>\n",
       "      <td>7.06</td>\n",
       "      <td>21.75</td>\n",
       "    </tr>\n",
       "  </tbody>\n",
       "</table>\n",
       "</div>"
      ],
      "text/plain": [
       "   Season  Year   TEMP  VISIB  TempChange\n",
       "0  Autumn  1929   9.98   7.28       10.02\n",
       "1  Autumn  1930  10.71   7.26        5.17\n",
       "2  Autumn  1931  10.11   7.92        3.74\n",
       "3  Autumn  1932  10.29   8.87       10.40\n",
       "4  Autumn  1933   6.70   7.06       21.75"
      ]
     },
     "execution_count": 26,
     "metadata": {},
     "output_type": "execute_result"
    }
   ],
   "source": [
    "# aggregate based on date and seasons\n",
    "grouped_by_seasons=weather_df.groupby(['Season',\"Year\"]).agg({\n",
    "    \"TEMP\":\"mean\",\n",
    "    'VISIB':'mean',\n",
    "    'TempChange':\"mean\",\n",
    "}).reset_index()\n",
    "grouped_by_seasons['TEMP']=round(grouped_by_seasons['TEMP'],2)\n",
    "grouped_by_seasons['VISIB']=round(grouped_by_seasons['VISIB'],2)\n",
    "grouped_by_seasons['TempChange']=round(grouped_by_seasons['TempChange'],2)\n",
    "grouped_by_seasons.head(5)"
   ]
  },
  {
   "cell_type": "code",
   "execution_count": 27,
   "metadata": {},
   "outputs": [
    {
     "data": {
      "image/png": "[encoded data removed]",
      "text/plain": [
       "<Figure size 3000x1000 with 1 Axes>"
      ]
     },
     "metadata": {},
     "output_type": "display_data"
    }
   ],
   "source": [
    "plt.figure(figsize =(30, 10)) \n",
    "\n",
    "# Plot the bar chart with the specified color palette\n",
    "plots=sns.barplot(x=\"Season\", y=\"TEMP\", data=grouped_by_seasons)\n",
    "\n",
    "for bar in plots.patches: \n",
    "    plots.annotate(format(round(bar.get_height(),2), ''),  \n",
    "                (bar.get_x() + bar.get_width() / 2,  \n",
    "                bar.get_height()),ha='center', va='center', \n",
    "                size=10, xytext=(0, 20), \n",
    "                textcoords='offset points')\n",
    "plt.title('Average Temprature by season')\n",
    "plt.xticks(rotation=90)\n",
    "plt.show()"
   ]
  },
  {
   "cell_type": "code",
   "execution_count": 28,
   "metadata": {},
   "outputs": [
    {
     "data": {
      "image/png": "[encoded data removed]",
      "text/plain": [
       "<Figure size 1500x700 with 3 Axes>"
      ]
     },
     "metadata": {},
     "output_type": "display_data"
    }
   ],
   "source": [
    "try:\n",
    "    # Monthly trends\n",
    "    weather_df['Month'] = pd.to_datetime(weather_df['DATE']).dt.month\n",
    "    monthly_mean_temp = weather_df.groupby('Month')['TEMP'].mean().reset_index()\n",
    "\n",
    "    # Seasonal trends \n",
    "    seasonal_mean_temp = weather_df.groupby('Season')['TEMP'].mean().reset_index()\n",
    "\n",
    "    # set the graph size\n",
    "    plt.figure(figsize=(15, 7))\n",
    "\n",
    "    # subplot(row, columns, first plot)\n",
    "    plt.subplot(2, 2, 1)\n",
    "    sns.lineplot(x='Month', y='TEMP', data=monthly_mean_temp, marker='o')\n",
    "    plt.title('Monthly Mean Temperature')\n",
    "    plt.xlabel('Month')\n",
    "    plt.ylabel('Mean Temperature (°C)')\n",
    "\n",
    "    plt.subplot(2, 2, 2)\n",
    "    sns.barplot(x='Season', y='TEMP', data=seasonal_mean_temp)\n",
    "    plt.title('Seasonal Mean Temperature')\n",
    "    plt.xlabel('Season')\n",
    "    plt.ylabel('Mean Temperature (°C)')\n",
    "\n",
    "    # 2. Temperature Distribution\n",
    "    plt.subplot(2, 2, 3)\n",
    "    sns.histplot(weather_df['TEMP'], bins=20, kde=True,color='red')\n",
    "    plt.title('Temperature Distribution')\n",
    "    plt.xlabel('Temperature (°C)')\n",
    "    plt.ylabel('Frequency')\n",
    "\n",
    "\n",
    "    plt.subplots_adjust(hspace=0.5, wspace=0.5)\n",
    "    plt.show()\n",
    "except Exception as e:\n",
    "    raise e"
   ]
  },
  {
   "cell_type": "code",
   "execution_count": 35,
   "metadata": {},
   "outputs": [
    {
     "data": {
      "application/vnd.plotly.v1+json": {
       "config": {
        "plotlyServerURL": "https://plot.ly"
       },
       "data": [
        {
         "lat": [
          51.867,
          -20.75,
          37.921,
          51.883,
          3.05,
          48.75,
          37.45,
          47.053,
          -28.367,
          48.967,
          62.467,
          -21.698,
          63.933,
          53.817,
          -25.898,
          27.35,
          62.75,
          -27.417,
          -22.5,
          -6.787,
          16.267,
          54.417,
          13.367,
          -29.033,
          49.083,
          27.688,
          47.85,
          13.153,
          35.473,
          58.192,
          47.817,
          31.022,
          25.85,
          43.883,
          35.209,
          58.621,
          46.783,
          -33.933,
          59.583,
          49.383,
          68.85,
          41.639,
          55.633,
          51.5,
          0.317,
          -10.217,
          47.867,
          29.267,
          58.683,
          45.033,
          43.083,
          30.217,
          -33.083,
          13.157,
          50.767,
          46.067,
          25.033,
          -46.875,
          43.963,
          16.733,
          34.882,
          39.366,
          67.833,
          46.683,
          48.711,
          46.367,
          36.371,
          -14.417,
          20.8,
          43.35,
          52.583,
          16.267,
          60.204,
          21.933,
          57.783,
          24.46,
          13.97,
          27.333,
          67.283,
          48.11,
          42.6,
          66.25,
          45.109,
          36.383,
          42.667,
          37.24,
          35.533,
          -34.15,
          40.497,
          7.509,
          34.681,
          40.032,
          34.717,
          46.017,
          56.85,
          46.6,
          43.117,
          35.57,
          52.183,
          36.515
         ],
         "lon": [
          58.183,
          -41.483,
          21.293,
          0.45,
          30.917,
          -91.617,
          -94.733,
          2.633,
          31.217,
          -56.067,
          89.017,
          -41.302,
          65.05,
          -89.9,
          139.348,
          -94.633,
          13.85,
          153.067,
          -68.9,
          -79.828,
          122.133,
          51.1,
          100.983,
          134.717,
          2.033,
          -97.292,
          16.533,
          30.233,
          -98.006,
          -136.344,
          13.717,
          -92.911,
          114.95,
          25.95,
          -75.704,
          -117.165,
          22.117,
          120.133,
          7.383,
          102.7,
          28.3,
          -91.545,
          95.467,
          44.5,
          32.617,
          31.133,
          20.017,
          50.267,
          16.317,
          39.15,
          58.933,
          -93.217,
          151.467,
          123.746,
          15.017,
          15.283,
          88.133,
          37.86,
          -86.408,
          95.65,
          -95.782,
          -75.078,
          -175.833,
          -68.05,
          11.212,
          -60.983,
          -92.472,
          -54.033,
          106.633,
          19.35,
          19.733,
          -61.6,
          -154.316,
          -99.983,
          23.25,
          -81.88,
          -89.53,
          62.333,
          28.183,
          16.57,
          -123.367,
          -166.089,
          42.113,
          33.933,
          26.333,
          -93.39,
          -0.533,
          19.9,
          -3.446,
          99.617,
          -90.347,
          -88.275,
          -120.567,
          22.15,
          14.833,
          13.667,
          131.933,
          -77.05,
          -122.054,
          103.62
         ],
         "marker": {
          "color": [
           62,
           20,
           34,
           61,
           14,
           85,
           46,
           51,
           32,
           84,
           97,
           12,
           96,
           94,
           16,
           11,
           87,
           28,
           44,
           22,
           8,
           82,
           2,
           27,
           57,
           15,
           54,
           1,
           39,
           69,
           83,
           30,
           29,
           47,
           32,
           89,
           55,
           38,
           91,
           90,
           93,
           58,
           95,
           75,
           17,
           23,
           76,
           10,
           74,
           49,
           48,
           26,
           37,
           6,
           67,
           68,
           7,
           77,
           66,
           3,
           35,
           50,
           99,
           81,
           64,
           78,
           40,
           13,
           18,
           63,
           65,
           19,
           86,
           25,
           71,
           9,
           4,
           21,
           92,
           56,
           70,
           98,
           59,
           24,
           45,
           43,
           31,
           42,
           41,
           5,
           33,
           52,
           53,
           60,
           72,
           88,
           79,
           36,
           80,
           73
          ]
         },
         "mode": "markers",
         "text": [
          "AK'JAR RUSSIA-->11.1",
          "ALEGRE BRAZIL-->24.33",
          "ANDRAVIDA GREECE-->17.89",
          "ANDREWSFIELD UNITED KINGDOM-->11.11",
          "ARUA UGANDA-->25.53",
          "ATIKOKAN (AUT)  ONT CANADA-->4.52",
          "ATKINSON MUNICIPAL AIRPORT UNITED STATES-->14.86",
          "AVORD FRANCE-->13.62",
          "BABANANGO SOUTH AFRICA-->18.72",
          "BADGER (AUT)  NFLD CANADA-->4.96",
          "BAHTA RUSSIA-->-1.79",
          "BARTOLOMEU LISANDRO BRAZIL-->25.74",
          "BEREZOVO RUSSIA-->-0.04",
          "BIG TROUT LAKE CANADA-->0.35",
          "BIRDSVILLE AUSTRALIA-->24.62",
          "BOOMVANG SPUR OIL PLATFORM UNITED STATES-->25.76",
          "BORTNAN SWEDEN-->3.14",
          "BRISBANE AIRPORT AUSTRALIA-->20.88",
          "CALAMA CHILE-->14.98",
          "CAPT JOSE A  QUINONES GONZALES INTL PERU-->23.71",
          "CASIGURAN PHILIPPINES-->27.02",
          "CELNO-VERSINY RUSSIA-->6.35",
          "CHON BURI/SATTAHIP THAILAND-->29.48",
          "COOBER PEDY AIRPORT AUSTRALIA-->21.21",
          "CORMEILLES FRANCE-->12.12",
          "CORPUS CHRISTI NAS UNITED STATES-->25.18",
          "EISENSTADT AUSTRIA-->12.73",
          "EL OBEID SUDAN-->31.98",
          "EL RENO REGIONAL AIRPORT UNITED STATES-->16.09",
          "ELFIN COVE SEAPLANE BASE UNITED STATES-->9.09",
          "FEUERKOGEL AUSTRIA-->5.27",
          "FULLERTON LANDING STRIP UNITED STATES-->20.55",
          "GANZHOU CHINA-->20.71",
          "GIURGIU ROMANIA-->14.27",
          "HATTERAS UNITED STATES-->18.72",
          "HIGH LEVEL CANADA-->2.24",
          "HOLOD ROMANIA-->12.55",
          "HOPETOWN NORTH AUSTRALIA-->16.21",
          "HOVDEN-LUNDANE NORWAY-->0.89",
          "HUTAG MONGOLIA-->1.93",
          "INARI NELLIM FINLAND-->0.68",
          "IOWA CITY MUNICIPAL ARPT UNITED STATES-->11.76",
          "IRBEJSKOE RUSSIA-->0.12",
          "KALININSK RUSSIA-->7.73",
          "KAMPALA UGANDA-->24.55",
          "KASAMA ZAMBIA-->23.22",
          "KEKESTETO HUNGARY-->7.61",
          "KHARG IRAN-->26.62",
          "KOLMARDEN-STROMSFORS SWEDEN-->8.26",
          "KRASNODAR RUSSIA-->13.86",
          "KUNGRAD UZBEKISTAN-->14.18",
          "LAKE CHARLES UNITED STATES-->22.2",
          "LAKE MACQUARIE AWS AUSTRALIA-->17.14",
          "LEGAZPI PHILIPPINES-->27.93",
          "LIBEREC CZECH REPUBLIC-->9.51",
          "LISCA SLOVENIA-->9.32",
          "MALDA INDIA-->27.1",
          "MARION ISLAND SOUTH AFRICA-->7.09",
          "MASON COUNTY AIRPORT UNITED STATES-->9.75",
          "MAUBIN BURMA-->29.05",
          "MC ALESTER REGIONAL ARPT UNITED STATES-->17.61",
          "MILLVILLE MUNICIPAL ARPT UNITED STATES-->13.65",
          "MYS VANKAREM RUSSIA-->-8.35",
          "NERN MAINE RGNL ARPT AT PRESQUE IS AIRPORT UNITED STATES-->6.57",
          "NEUBURG GERMANY-->10.81",
          "NORTHEAST MARGAREE (AUT) CANADA-->7.07",
          "OZARK REGIONAL AIRPORT UNITED STATES-->15.77",
          "PARANATINGA BRAZIL-->25.55",
          "PHU LIEN VIETNAM-->24.45",
          "PLEVLJA MONTENEGRO-->11.09",
          "PLOCK POLAND-->10.18",
          "POINTE A PITRE INTERNATIONAL AIRPORT GUADELOUPE-->24.43",
          "PORT ALSWORTH AIRPORT UNITED STATES-->4.03",
          "RIO VERDE  S.L.P. MEXICO-->22.42",
          "RUHNU ESTONIA-->8.58",
          "SAND KEY  FL UNITED STATES-->26.89",
          "SANTA ANA/EL PALMAR EL SALVADOR-->28.81",
          "SARAVAN IRAN-->23.76",
          "SAVUKOSKI KK FINLAND-->0.83",
          "SCHWECHAT AUSTRIA-->12.4",
          "SEXTON SUMMIT UNITED STATES-->8.85",
          "SHISHMAREF/NEW AIRPORT UNITED STATES-->-3.36",
          "SHPAKOVSKOYE RUSSIA-->11.61",
          "SILIFKE TURKEY-->22.78",
          "SLIVEN BULGARIA-->14.87",
          "SPRINGFIELD-BRANSON REGIONAL AIRPORT UNITED STATES-->15.11",
          "TAFARAOUI ALGERIA-->20.35",
          "TIGERHOEK SOUTH AFRICA-->15.49",
          "TORREJON SPAIN-->15.5",
          "TRANG THAILAND-->28.16",
          "TUNICA MUNICIPAL AIRPORT UNITED STATES-->17.96",
          "UNIVERSI OF IL WILLARD APT UNITED STATES-->12.98",
          "VANDENBERG AFB UNITED STATES-->12.8",
          "VARADIA DE MURES ROMANIA-->11.59",
          "VAXJO SWEDEN-->8.51",
          "VILLACHER ALPE AUTOM AUSTRIA-->2.45",
          "VLADIVOSTOK RUSSIA-->6.79",
          "WARREN FIELD AIRPORT UNITED STATES-->17.4",
          "WILLIAMS LAKE CANADA-->6.65",
          "ZHONGCHUAN CHINA-->8.45"
         ],
         "type": "scattergeo"
        }
       ],
       "layout": {
        "geo": {
         "resolution": 110,
         "scope": "world"
        },
        "height": 600,
        "template": {
         "data": {
          "bar": [
           {
            "error_x": {
             "color": "#2a3f5f"
            },
            "error_y": {
             "color": "#2a3f5f"
            },
            "marker": {
             "line": {
              "color": "#E5ECF6",
              "width": 0.5
             },
             "pattern": {
              "fillmode": "overlay",
              "size": 10,
              "solidity": 0.2
             }
            },
            "type": "bar"
           }
          ],
          "barpolar": [
           {
            "marker": {
             "line": {
              "color": "#E5ECF6",
              "width": 0.5
             },
             "pattern": {
              "fillmode": "overlay",
              "size": 10,
              "solidity": 0.2
             }
            },
            "type": "barpolar"
           }
          ],
          "carpet": [
           {
            "aaxis": {
             "endlinecolor": "#2a3f5f",
             "gridcolor": "white",
             "linecolor": "white",
             "minorgridcolor": "white",
             "startlinecolor": "#2a3f5f"
            },
            "baxis": {
             "endlinecolor": "#2a3f5f",
             "gridcolor": "white",
             "linecolor": "white",
             "minorgridcolor": "white",
             "startlinecolor": "#2a3f5f"
            },
            "type": "carpet"
           }
          ],
          "choropleth": [
           {
            "colorbar": {
             "outlinewidth": 0,
             "ticks": ""
            },
            "type": "choropleth"
           }
          ],
          "contour": [
           {
            "colorbar": {
             "outlinewidth": 0,
             "ticks": ""
            },
            "colorscale": [
             [
              0,
              "#0d0887"
             ],
             [
              0.1111111111111111,
              "#46039f"
             ],
             [
              0.2222222222222222,
              "#7201a8"
             ],
             [
              0.3333333333333333,
              "#9c179e"
             ],
             [
              0.4444444444444444,
              "#bd3786"
             ],
             [
              0.5555555555555556,
              "#d8576b"
             ],
             [
              0.6666666666666666,
              "#ed7953"
             ],
             [
              0.7777777777777778,
              "#fb9f3a"
             ],
             [
              0.8888888888888888,
              "#fdca26"
             ],
             [
              1,
              "#f0f921"
             ]
            ],
            "type": "contour"
           }
          ],
          "contourcarpet": [
           {
            "colorbar": {
             "outlinewidth": 0,
             "ticks": ""
            },
            "type": "contourcarpet"
           }
          ],
          "heatmap": [
           {
            "colorbar": {
             "outlinewidth": 0,
             "ticks": ""
            },
            "colorscale": [
             [
              0,
              "#0d0887"
             ],
             [
              0.1111111111111111,
              "#46039f"
             ],
             [
              0.2222222222222222,
              "#7201a8"
             ],
             [
              0.3333333333333333,
              "#9c179e"
             ],
             [
              0.4444444444444444,
              "#bd3786"
             ],
             [
              0.5555555555555556,
              "#d8576b"
             ],
             [
              0.6666666666666666,
              "#ed7953"
             ],
             [
              0.7777777777777778,
              "#fb9f3a"
             ],
             [
              0.8888888888888888,
              "#fdca26"
             ],
             [
              1,
              "#f0f921"
             ]
            ],
            "type": "heatmap"
           }
          ],
          "heatmapgl": [
           {
            "colorbar": {
             "outlinewidth": 0,
             "ticks": ""
            },
            "colorscale": [
             [
              0,
              "#0d0887"
             ],
             [
              0.1111111111111111,
              "#46039f"
             ],
             [
              0.2222222222222222,
              "#7201a8"
             ],
             [
              0.3333333333333333,
              "#9c179e"
             ],
             [
              0.4444444444444444,
              "#bd3786"
             ],
             [
              0.5555555555555556,
              "#d8576b"
             ],
             [
              0.6666666666666666,
              "#ed7953"
             ],
             [
              0.7777777777777778,
              "#fb9f3a"
             ],
             [
              0.8888888888888888,
              "#fdca26"
             ],
             [
              1,
              "#f0f921"
             ]
            ],
            "type": "heatmapgl"
           }
          ],
          "histogram": [
           {
            "marker": {
             "pattern": {
              "fillmode": "overlay",
              "size": 10,
              "solidity": 0.2
             }
            },
            "type": "histogram"
           }
          ],
          "histogram2d": [
           {
            "colorbar": {
             "outlinewidth": 0,
             "ticks": ""
            },
            "colorscale": [
             [
              0,
              "#0d0887"
             ],
             [
              0.1111111111111111,
              "#46039f"
             ],
             [
              0.2222222222222222,
              "#7201a8"
             ],
             [
              0.3333333333333333,
              "#9c179e"
             ],
             [
              0.4444444444444444,
              "#bd3786"
             ],
             [
              0.5555555555555556,
              "#d8576b"
             ],
             [
              0.6666666666666666,
              "#ed7953"
             ],
             [
              0.7777777777777778,
              "#fb9f3a"
             ],
             [
              0.8888888888888888,
              "#fdca26"
             ],
             [
              1,
              "#f0f921"
             ]
            ],
            "type": "histogram2d"
           }
          ],
          "histogram2dcontour": [
           {
            "colorbar": {
             "outlinewidth": 0,
             "ticks": ""
            },
            "colorscale": [
             [
              0,
              "#0d0887"
             ],
             [
              0.1111111111111111,
              "#46039f"
             ],
             [
              0.2222222222222222,
              "#7201a8"
             ],
             [
              0.3333333333333333,
              "#9c179e"
             ],
             [
              0.4444444444444444,
              "#bd3786"
             ],
             [
              0.5555555555555556,
              "#d8576b"
             ],
             [
              0.6666666666666666,
              "#ed7953"
             ],
             [
              0.7777777777777778,
              "#fb9f3a"
             ],
             [
              0.8888888888888888,
              "#fdca26"
             ],
             [
              1,
              "#f0f921"
             ]
            ],
            "type": "histogram2dcontour"
           }
          ],
          "mesh3d": [
           {
            "colorbar": {
             "outlinewidth": 0,
             "ticks": ""
            },
            "type": "mesh3d"
           }
          ],
          "parcoords": [
           {
            "line": {
             "colorbar": {
              "outlinewidth": 0,
              "ticks": ""
             }
            },
            "type": "parcoords"
           }
          ],
          "pie": [
           {
            "automargin": true,
            "type": "pie"
           }
          ],
          "scatter": [
           {
            "fillpattern": {
             "fillmode": "overlay",
             "size": 10,
             "solidity": 0.2
            },
            "type": "scatter"
           }
          ],
          "scatter3d": [
           {
            "line": {
             "colorbar": {
              "outlinewidth": 0,
              "ticks": ""
             }
            },
            "marker": {
             "colorbar": {
              "outlinewidth": 0,
              "ticks": ""
             }
            },
            "type": "scatter3d"
           }
          ],
          "scattercarpet": [
           {
            "marker": {
             "colorbar": {
              "outlinewidth": 0,
              "ticks": ""
             }
            },
            "type": "scattercarpet"
           }
          ],
          "scattergeo": [
           {
            "marker": {
             "colorbar": {
              "outlinewidth": 0,
              "ticks": ""
             }
            },
            "type": "scattergeo"
           }
          ],
          "scattergl": [
           {
            "marker": {
             "colorbar": {
              "outlinewidth": 0,
              "ticks": ""
             }
            },
            "type": "scattergl"
           }
          ],
          "scattermapbox": [
           {
            "marker": {
             "colorbar": {
              "outlinewidth": 0,
              "ticks": ""
             }
            },
            "type": "scattermapbox"
           }
          ],
          "scatterpolar": [
           {
            "marker": {
             "colorbar": {
              "outlinewidth": 0,
              "ticks": ""
             }
            },
            "type": "scatterpolar"
           }
          ],
          "scatterpolargl": [
           {
            "marker": {
             "colorbar": {
              "outlinewidth": 0,
              "ticks": ""
             }
            },
            "type": "scatterpolargl"
           }
          ],
          "scatterternary": [
           {
            "marker": {
             "colorbar": {
              "outlinewidth": 0,
              "ticks": ""
             }
            },
            "type": "scatterternary"
           }
          ],
          "surface": [
           {
            "colorbar": {
             "outlinewidth": 0,
             "ticks": ""
            },
            "colorscale": [
             [
              0,
              "#0d0887"
             ],
             [
              0.1111111111111111,
              "#46039f"
             ],
             [
              0.2222222222222222,
              "#7201a8"
             ],
             [
              0.3333333333333333,
              "#9c179e"
             ],
             [
              0.4444444444444444,
              "#bd3786"
             ],
             [
              0.5555555555555556,
              "#d8576b"
             ],
             [
              0.6666666666666666,
              "#ed7953"
             ],
             [
              0.7777777777777778,
              "#fb9f3a"
             ],
             [
              0.8888888888888888,
              "#fdca26"
             ],
             [
              1,
              "#f0f921"
             ]
            ],
            "type": "surface"
           }
          ],
          "table": [
           {
            "cells": {
             "fill": {
              "color": "#EBF0F8"
             },
             "line": {
              "color": "white"
             }
            },
            "header": {
             "fill": {
              "color": "#C8D4E3"
             },
             "line": {
              "color": "white"
             }
            },
            "type": "table"
           }
          ]
         },
         "layout": {
          "annotationdefaults": {
           "arrowcolor": "#2a3f5f",
           "arrowhead": 0,
           "arrowwidth": 1
          },
          "autotypenumbers": "strict",
          "coloraxis": {
           "colorbar": {
            "outlinewidth": 0,
            "ticks": ""
           }
          },
          "colorscale": {
           "diverging": [
            [
             0,
             "#8e0152"
            ],
            [
             0.1,
             "#c51b7d"
            ],
            [
             0.2,
             "#de77ae"
            ],
            [
             0.3,
             "#f1b6da"
            ],
            [
             0.4,
             "#fde0ef"
            ],
            [
             0.5,
             "#f7f7f7"
            ],
            [
             0.6,
             "#e6f5d0"
            ],
            [
             0.7,
             "#b8e186"
            ],
            [
             0.8,
             "#7fbc41"
            ],
            [
             0.9,
             "#4d9221"
            ],
            [
             1,
             "#276419"
            ]
           ],
           "sequential": [
            [
             0,
             "#0d0887"
            ],
            [
             0.1111111111111111,
             "#46039f"
            ],
            [
             0.2222222222222222,
             "#7201a8"
            ],
            [
             0.3333333333333333,
             "#9c179e"
            ],
            [
             0.4444444444444444,
             "#bd3786"
            ],
            [
             0.5555555555555556,
             "#d8576b"
            ],
            [
             0.6666666666666666,
             "#ed7953"
            ],
            [
             0.7777777777777778,
             "#fb9f3a"
            ],
            [
             0.8888888888888888,
             "#fdca26"
            ],
            [
             1,
             "#f0f921"
            ]
           ],
           "sequentialminus": [
            [
             0,
             "#0d0887"
            ],
            [
             0.1111111111111111,
             "#46039f"
            ],
            [
             0.2222222222222222,
             "#7201a8"
            ],
            [
             0.3333333333333333,
             "#9c179e"
            ],
            [
             0.4444444444444444,
             "#bd3786"
            ],
            [
             0.5555555555555556,
             "#d8576b"
            ],
            [
             0.6666666666666666,
             "#ed7953"
            ],
            [
             0.7777777777777778,
             "#fb9f3a"
            ],
            [
             0.8888888888888888,
             "#fdca26"
            ],
            [
             1,
             "#f0f921"
            ]
           ]
          },
          "colorway": [
           "#636efa",
           "#EF553B",
           "#00cc96",
           "#ab63fa",
           "#FFA15A",
           "#19d3f3",
           "#FF6692",
           "#B6E880",
           "#FF97FF",
           "#FECB52"
          ],
          "font": {
           "color": "#2a3f5f"
          },
          "geo": {
           "bgcolor": "white",
           "lakecolor": "white",
           "landcolor": "#E5ECF6",
           "showlakes": true,
           "showland": true,
           "subunitcolor": "white"
          },
          "hoverlabel": {
           "align": "left"
          },
          "hovermode": "closest",
          "mapbox": {
           "style": "light"
          },
          "paper_bgcolor": "white",
          "plot_bgcolor": "#E5ECF6",
          "polar": {
           "angularaxis": {
            "gridcolor": "white",
            "linecolor": "white",
            "ticks": ""
           },
           "bgcolor": "#E5ECF6",
           "radialaxis": {
            "gridcolor": "white",
            "linecolor": "white",
            "ticks": ""
           }
          },
          "scene": {
           "xaxis": {
            "backgroundcolor": "#E5ECF6",
            "gridcolor": "white",
            "gridwidth": 2,
            "linecolor": "white",
            "showbackground": true,
            "ticks": "",
            "zerolinecolor": "white"
           },
           "yaxis": {
            "backgroundcolor": "#E5ECF6",
            "gridcolor": "white",
            "gridwidth": 2,
            "linecolor": "white",
            "showbackground": true,
            "ticks": "",
            "zerolinecolor": "white"
           },
           "zaxis": {
            "backgroundcolor": "#E5ECF6",
            "gridcolor": "white",
            "gridwidth": 2,
            "linecolor": "white",
            "showbackground": true,
            "ticks": "",
            "zerolinecolor": "white"
           }
          },
          "shapedefaults": {
           "line": {
            "color": "#2a3f5f"
           }
          },
          "ternary": {
           "aaxis": {
            "gridcolor": "white",
            "linecolor": "white",
            "ticks": ""
           },
           "baxis": {
            "gridcolor": "white",
            "linecolor": "white",
            "ticks": ""
           },
           "bgcolor": "#E5ECF6",
           "caxis": {
            "gridcolor": "white",
            "linecolor": "white",
            "ticks": ""
           }
          },
          "title": {
           "x": 0.05
          },
          "xaxis": {
           "automargin": true,
           "gridcolor": "white",
           "linecolor": "white",
           "ticks": "",
           "title": {
            "standoff": 15
           },
           "zerolinecolor": "white",
           "zerolinewidth": 2
          },
          "yaxis": {
           "automargin": true,
           "gridcolor": "white",
           "linecolor": "white",
           "ticks": "",
           "title": {
            "standoff": 15
           },
           "zerolinecolor": "white",
           "zerolinewidth": 2
          }
         }
        },
        "width": 1400
       }
      }
     },
     "metadata": {},
     "output_type": "display_data"
    }
   ],
   "source": [
    "import plotly.express as px\n",
    "import plotly.graph_objects as go\n",
    "import pandas as pd\n",
    "\n",
    "geo_df = weather_df[weather_df['Year']==2023].groupby('STATION NAME').agg({'TEMP':'mean','LAT':'max','LON':'max','COUNTRY NAME':'max'}).reset_index()\n",
    "geo_df['TEMP']=round(geo_df['TEMP'],2)\n",
    "geo_df['Rank']=geo_df['TEMP'].rank(ascending=False, method='dense')\n",
    "geo_df['text'] = geo_df['STATION NAME'] + ' ' + geo_df['COUNTRY NAME'] + '-->' + geo_df['TEMP'].astype(str)\n",
    "\n",
    "fig = go.Figure(data=go.Scattergeo(\n",
    "        text = geo_df['text'],\n",
    "        lat = geo_df['LAT'],\n",
    "        lon = geo_df['LON'],\n",
    "        mode = 'markers',\n",
    "        marker_color = geo_df['Rank'],\n",
    "        ))\n",
    "\n",
    "fig.update_layout(\n",
    "        geo_scope='world',\n",
    "        geo = dict(resolution = 110),\n",
    "        height=600,  # Set the desired height\n",
    "        width=1400,  # Set the desired width\n",
    "    )\n",
    "fig.show()"
   ]
  },
  {
   "cell_type": "code",
   "execution_count": null,
   "metadata": {},
   "outputs": [],
   "source": []
  }
 ],
 "metadata": {
  "kernelspec": {
   "display_name": "Python 3",
   "language": "python",
   "name": "python3"
  },
  "language_info": {
   "codemirror_mode": {
    "name": "ipython",
    "version": 3
   },
   "file_extension": ".py",
   "mimetype": "text/x-python",
   "name": "python",
   "nbconvert_exporter": "python",
   "pygments_lexer": "ipython3",
   "version": "3.12.0"
  }
 },
 "nbformat": 4,
 "nbformat_minor": 2
}
