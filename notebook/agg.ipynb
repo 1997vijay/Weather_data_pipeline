{
 "cells": [
  {
   "cell_type": "code",
   "execution_count": 5,
   "metadata": {},
   "outputs": [],
   "source": [
    "# import required libraries\n",
    "import pandas as pd\n",
    "import matplotlib.pyplot as plt\n",
    "import seaborn as sns\n",
    "\n",
    "import warnings\n",
    "warnings.filterwarnings('ignore')"
   ]
  },
  {
   "cell_type": "code",
   "execution_count": 6,
   "metadata": {},
   "outputs": [
    {
     "data": {
      "text/html": [
       "<div>\n",
       "<style scoped>\n",
       "    .dataframe tbody tr th:only-of-type {\n",
       "        vertical-align: middle;\n",
       "    }\n",
       "\n",
       "    .dataframe tbody tr th {\n",
       "        vertical-align: top;\n",
       "    }\n",
       "\n",
       "    .dataframe thead th {\n",
       "        text-align: right;\n",
       "    }\n",
       "</style>\n",
       "<table border=\"1\" class=\"dataframe\">\n",
       "  <thead>\n",
       "    <tr style=\"text-align: right;\">\n",
       "      <th></th>\n",
       "      <th>DATE</th>\n",
       "      <th>Year</th>\n",
       "      <th>STN</th>\n",
       "      <th>STATION NAME</th>\n",
       "      <th>COUNTRY NAME</th>\n",
       "      <th>LAT</th>\n",
       "      <th>LON</th>\n",
       "      <th>TEMP</th>\n",
       "      <th>DEWP</th>\n",
       "      <th>SLP</th>\n",
       "      <th>...</th>\n",
       "      <th>Season</th>\n",
       "      <th>TempChange</th>\n",
       "      <th>WindCategory</th>\n",
       "      <th>VisibilityCategory</th>\n",
       "      <th>Fog</th>\n",
       "      <th>Rain</th>\n",
       "      <th>Snow</th>\n",
       "      <th>Hail</th>\n",
       "      <th>Thunder</th>\n",
       "      <th>Tornado</th>\n",
       "    </tr>\n",
       "  </thead>\n",
       "  <tbody>\n",
       "    <tr>\n",
       "      <th>0</th>\n",
       "      <td>1929-10-01</td>\n",
       "      <td>1929</td>\n",
       "      <td>30050</td>\n",
       "      <td>LERWICK</td>\n",
       "      <td>UNITED KINGDOM</td>\n",
       "      <td>60.133</td>\n",
       "      <td>-1.183</td>\n",
       "      <td>7.39</td>\n",
       "      <td>40.0</td>\n",
       "      <td>1001.6</td>\n",
       "      <td>...</td>\n",
       "      <td>Autumn</td>\n",
       "      <td>3.89</td>\n",
       "      <td>Low</td>\n",
       "      <td>Moderate</td>\n",
       "      <td>0</td>\n",
       "      <td>NaN</td>\n",
       "      <td>NaN</td>\n",
       "      <td>NaN</td>\n",
       "      <td>NaN</td>\n",
       "      <td>NaN</td>\n",
       "    </tr>\n",
       "    <tr>\n",
       "      <th>1</th>\n",
       "      <td>1929-10-02</td>\n",
       "      <td>1929</td>\n",
       "      <td>30050</td>\n",
       "      <td>LERWICK</td>\n",
       "      <td>UNITED KINGDOM</td>\n",
       "      <td>60.133</td>\n",
       "      <td>-1.183</td>\n",
       "      <td>9.72</td>\n",
       "      <td>45.2</td>\n",
       "      <td>977.6</td>\n",
       "      <td>...</td>\n",
       "      <td>Autumn</td>\n",
       "      <td>5.00</td>\n",
       "      <td>High</td>\n",
       "      <td>Low</td>\n",
       "      <td>1</td>\n",
       "      <td>0.0</td>\n",
       "      <td>0.0</td>\n",
       "      <td>0.0</td>\n",
       "      <td>0.0</td>\n",
       "      <td>NaN</td>\n",
       "    </tr>\n",
       "    <tr>\n",
       "      <th>2</th>\n",
       "      <td>1929-10-03</td>\n",
       "      <td>1929</td>\n",
       "      <td>30050</td>\n",
       "      <td>LERWICK</td>\n",
       "      <td>UNITED KINGDOM</td>\n",
       "      <td>60.133</td>\n",
       "      <td>-1.183</td>\n",
       "      <td>9.44</td>\n",
       "      <td>41.7</td>\n",
       "      <td>975.7</td>\n",
       "      <td>...</td>\n",
       "      <td>Autumn</td>\n",
       "      <td>3.94</td>\n",
       "      <td>Medium</td>\n",
       "      <td>Moderate</td>\n",
       "      <td>1</td>\n",
       "      <td>0.0</td>\n",
       "      <td>0.0</td>\n",
       "      <td>0.0</td>\n",
       "      <td>0.0</td>\n",
       "      <td>NaN</td>\n",
       "    </tr>\n",
       "  </tbody>\n",
       "</table>\n",
       "<p>3 rows × 33 columns</p>\n",
       "</div>"
      ],
      "text/plain": [
       "         DATE  Year    STN STATION NAME    COUNTRY NAME     LAT    LON  TEMP  \\\n",
       "0  1929-10-01  1929  30050      LERWICK  UNITED KINGDOM  60.133 -1.183  7.39   \n",
       "1  1929-10-02  1929  30050      LERWICK  UNITED KINGDOM  60.133 -1.183  9.72   \n",
       "2  1929-10-03  1929  30050      LERWICK  UNITED KINGDOM  60.133 -1.183  9.44   \n",
       "\n",
       "   DEWP     SLP  ...  Season  TempChange  WindCategory  VisibilityCategory  \\\n",
       "0  40.0  1001.6  ...  Autumn        3.89           Low            Moderate   \n",
       "1  45.2   977.6  ...  Autumn        5.00          High                 Low   \n",
       "2  41.7   975.7  ...  Autumn        3.94        Medium            Moderate   \n",
       "\n",
       "   Fog  Rain  Snow Hail  Thunder  Tornado  \n",
       "0    0   NaN   NaN  NaN      NaN      NaN  \n",
       "1    1   0.0   0.0  0.0      0.0      NaN  \n",
       "2    1   0.0   0.0  0.0      0.0      NaN  \n",
       "\n",
       "[3 rows x 33 columns]"
      ]
     },
     "execution_count": 6,
     "metadata": {},
     "output_type": "execute_result"
    }
   ],
   "source": [
    "# read processed weather file\n",
    "weather_df=pd.read_csv('../data/processed/WEATHER_PROCESSED.csv')\n",
    "weather_df.head(3)"
   ]
  },
  {
   "cell_type": "code",
   "execution_count": 7,
   "metadata": {},
   "outputs": [],
   "source": [
    "# get year\n",
    "weather_df['VisibilityCategory']=weather_df['VisibilityCategory'].astype(str)\n",
    "weather_df['WindCategory']=weather_df['WindCategory'].astype(str)\n",
    "weather_df['TEMP']=round(weather_df['TEMP'],2)"
   ]
  },
  {
   "cell_type": "code",
   "execution_count": 8,
   "metadata": {},
   "outputs": [
    {
     "data": {
      "text/html": [
       "<div>\n",
       "<style scoped>\n",
       "    .dataframe tbody tr th:only-of-type {\n",
       "        vertical-align: middle;\n",
       "    }\n",
       "\n",
       "    .dataframe tbody tr th {\n",
       "        vertical-align: top;\n",
       "    }\n",
       "\n",
       "    .dataframe thead th {\n",
       "        text-align: right;\n",
       "    }\n",
       "</style>\n",
       "<table border=\"1\" class=\"dataframe\">\n",
       "  <thead>\n",
       "    <tr style=\"text-align: right;\">\n",
       "      <th></th>\n",
       "      <th>DATE</th>\n",
       "      <th>Year</th>\n",
       "      <th>TEMP</th>\n",
       "      <th>VISIB</th>\n",
       "      <th>TempChange</th>\n",
       "      <th>WindCategory</th>\n",
       "      <th>VisibilityCategory</th>\n",
       "    </tr>\n",
       "  </thead>\n",
       "  <tbody>\n",
       "    <tr>\n",
       "      <th>0</th>\n",
       "      <td>1929-08-01</td>\n",
       "      <td>1929</td>\n",
       "      <td>14.56</td>\n",
       "      <td>6.7</td>\n",
       "      <td>6.07</td>\n",
       "      <td>High</td>\n",
       "      <td>Very Low</td>\n",
       "    </tr>\n",
       "    <tr>\n",
       "      <th>1</th>\n",
       "      <td>1929-08-02</td>\n",
       "      <td>1929</td>\n",
       "      <td>13.29</td>\n",
       "      <td>4.8</td>\n",
       "      <td>7.90</td>\n",
       "      <td>Medium</td>\n",
       "      <td>Very Low</td>\n",
       "    </tr>\n",
       "    <tr>\n",
       "      <th>2</th>\n",
       "      <td>1929-08-03</td>\n",
       "      <td>1929</td>\n",
       "      <td>13.70</td>\n",
       "      <td>6.7</td>\n",
       "      <td>7.26</td>\n",
       "      <td>Medium</td>\n",
       "      <td>Very Low</td>\n",
       "    </tr>\n",
       "  </tbody>\n",
       "</table>\n",
       "</div>"
      ],
      "text/plain": [
       "         DATE  Year   TEMP  VISIB  TempChange WindCategory VisibilityCategory\n",
       "0  1929-08-01  1929  14.56    6.7        6.07         High           Very Low\n",
       "1  1929-08-02  1929  13.29    4.8        7.90       Medium           Very Low\n",
       "2  1929-08-03  1929  13.70    6.7        7.26       Medium           Very Low"
      ]
     },
     "execution_count": 8,
     "metadata": {},
     "output_type": "execute_result"
    }
   ],
   "source": [
    "# aggregate based on date\n",
    "grouped_by_date=weather_df.groupby('DATE').agg({\n",
    "    'Year':'max',\n",
    "    \"TEMP\":\"mean\",\n",
    "    'VISIB':'mean',\n",
    "    'TempChange':\"mean\",\n",
    "    'WindCategory':'max',\n",
    "    'VisibilityCategory':'max'\n",
    "}).reset_index()\n",
    "grouped_by_date['TEMP']=round(grouped_by_date['TEMP'],2)\n",
    "grouped_by_date['VISIB']=round(grouped_by_date['VISIB'],2)\n",
    "grouped_by_date['TempChange']=round(grouped_by_date['TempChange'],2)\n",
    "grouped_by_date.head(3)"
   ]
  },
  {
   "cell_type": "code",
   "execution_count": 9,
   "metadata": {},
   "outputs": [
    {
     "data": {
      "text/html": [
       "<div>\n",
       "<style scoped>\n",
       "    .dataframe tbody tr th:only-of-type {\n",
       "        vertical-align: middle;\n",
       "    }\n",
       "\n",
       "    .dataframe tbody tr th {\n",
       "        vertical-align: top;\n",
       "    }\n",
       "\n",
       "    .dataframe thead th {\n",
       "        text-align: right;\n",
       "    }\n",
       "</style>\n",
       "<table border=\"1\" class=\"dataframe\">\n",
       "  <thead>\n",
       "    <tr style=\"text-align: right;\">\n",
       "      <th></th>\n",
       "      <th>Year</th>\n",
       "      <th>TEMP</th>\n",
       "      <th>VISIB</th>\n",
       "      <th>TempChange</th>\n",
       "      <th>Rank</th>\n",
       "    </tr>\n",
       "  </thead>\n",
       "  <tbody>\n",
       "    <tr>\n",
       "      <th>0</th>\n",
       "      <td>1929</td>\n",
       "      <td>9.58</td>\n",
       "      <td>6.97</td>\n",
       "      <td>8.20</td>\n",
       "      <td>78.0</td>\n",
       "    </tr>\n",
       "    <tr>\n",
       "      <th>1</th>\n",
       "      <td>1930</td>\n",
       "      <td>9.92</td>\n",
       "      <td>7.05</td>\n",
       "      <td>6.80</td>\n",
       "      <td>71.0</td>\n",
       "    </tr>\n",
       "    <tr>\n",
       "      <th>2</th>\n",
       "      <td>1931</td>\n",
       "      <td>9.79</td>\n",
       "      <td>9.17</td>\n",
       "      <td>3.76</td>\n",
       "      <td>75.0</td>\n",
       "    </tr>\n",
       "  </tbody>\n",
       "</table>\n",
       "</div>"
      ],
      "text/plain": [
       "   Year  TEMP  VISIB  TempChange  Rank\n",
       "0  1929  9.58   6.97        8.20  78.0\n",
       "1  1930  9.92   7.05        6.80  71.0\n",
       "2  1931  9.79   9.17        3.76  75.0"
      ]
     },
     "execution_count": 9,
     "metadata": {},
     "output_type": "execute_result"
    }
   ],
   "source": [
    "# aggregate based on year\n",
    "grouped_by_year=weather_df.groupby('Year').agg({\n",
    "    \"TEMP\":\"mean\",\n",
    "    'VISIB':'mean',\n",
    "    'TempChange':\"mean\",\n",
    "}).reset_index()\n",
    "\n",
    "# applying the dense rank to create the color for the bar graph\n",
    "grouped_by_year['Rank'] = grouped_by_year['TEMP'].rank(ascending=False, method='dense')\n",
    "grouped_by_year['TEMP']=round(grouped_by_year['TEMP'],2)\n",
    "grouped_by_year['VISIB']=round(grouped_by_year['VISIB'],2)\n",
    "grouped_by_year['TempChange']=round(grouped_by_year['TempChange'],2)\n",
    "grouped_by_year.head(3)"
   ]
  },
  {
   "cell_type": "code",
   "execution_count": 10,
   "metadata": {},
   "outputs": [],
   "source": [
    "def assign_color(row):\n",
    "    if row==1:\n",
    "        return 'red'\n",
    "    elif row==2:\n",
    "        return 'orange'\n",
    "    elif row==grouped_by_year['Rank'].max():\n",
    "        return 'green'\n",
    "    else:\n",
    "        return 'gray'\n",
    "\n",
    "# assing the colors to highlight the highest, second highest and lowest temprature bar\n",
    "grouped_by_year['Colors']=grouped_by_year['Rank'].apply(lambda row: 'red' if row == 1 else ('orange' if row == 2 else ('green' if row == grouped_by_year['Rank'].max() else 'gray')))"
   ]
  },
  {
   "cell_type": "code",
   "execution_count": 11,
   "metadata": {},
   "outputs": [
    {
     "data": {
      "image/png": "[encoded data removed]",
      "text/plain": [
       "<Figure size 3000x1000 with 1 Axes>"
      ]
     },
     "metadata": {},
     "output_type": "display_data"
    }
   ],
   "source": [
    "plt.figure(figsize =(30, 10)) \n",
    "\n",
    "# Plot the bar chart with the specified color palette\n",
    "plots=sns.barplot(x=\"Year\", y=\"TEMP\", data=grouped_by_year, palette=grouped_by_year['Colors'].tolist())\n",
    "\n",
    "# plots.annotate(...): This function is used to annotate each bar with its height. It adds a text label to each bar, displaying its height.\n",
    "# format(bar.get_height(), ''): Formats the height of the bar as a string.\n",
    "# (bar.get_x() + bar.get_width() / 2, bar.get_height()): Specifies the position where the text label will be placed, which is at the top center of each bar.\n",
    "# ha='center', va='center': Aligns the text label at the center of the specified position.\n",
    "# size=6: Sets the font size of the text label to 6 points.\n",
    "# xytext=(0, 8): Offsets the text label by (0, 8) points from the specified position.\n",
    "# textcoords='offset points': Specifies that the positioning is done using offset points.\n",
    "\n",
    "for bar in plots.patches: \n",
    "    plots.annotate(format(bar.get_height(), ''),  \n",
    "                (bar.get_x() + bar.get_width() / 2,  \n",
    "                bar.get_height()),ha='center', va='center', \n",
    "                size=6, xytext=(0, 8), \n",
    "                textcoords='offset points')\n",
    "plt.title('Average Temprature for each year')\n",
    "plt.text(0.5, 1, '1. Red --> Year with highest temprature \\n 2. Orange --> Year with second highest temprature \\n 3. Green--> Year with minimum temprature', size=10, ha='center', va='center', transform=plt.gcf().transFigure)\n",
    "plt.xticks(rotation=90)\n",
    "plt.show()"
   ]
  },
  {
   "cell_type": "code",
   "execution_count": 12,
   "metadata": {},
   "outputs": [
    {
     "data": {
      "text/html": [
       "<div>\n",
       "<style scoped>\n",
       "    .dataframe tbody tr th:only-of-type {\n",
       "        vertical-align: middle;\n",
       "    }\n",
       "\n",
       "    .dataframe tbody tr th {\n",
       "        vertical-align: top;\n",
       "    }\n",
       "\n",
       "    .dataframe thead th {\n",
       "        text-align: right;\n",
       "    }\n",
       "</style>\n",
       "<table border=\"1\" class=\"dataframe\">\n",
       "  <thead>\n",
       "    <tr style=\"text-align: right;\">\n",
       "      <th></th>\n",
       "      <th>Season</th>\n",
       "      <th>Year</th>\n",
       "      <th>TEMP</th>\n",
       "      <th>VISIB</th>\n",
       "      <th>TempChange</th>\n",
       "    </tr>\n",
       "  </thead>\n",
       "  <tbody>\n",
       "    <tr>\n",
       "      <th>0</th>\n",
       "      <td>Autumn</td>\n",
       "      <td>1929</td>\n",
       "      <td>9.98</td>\n",
       "      <td>7.28</td>\n",
       "      <td>10.02</td>\n",
       "    </tr>\n",
       "    <tr>\n",
       "      <th>1</th>\n",
       "      <td>Autumn</td>\n",
       "      <td>1930</td>\n",
       "      <td>10.71</td>\n",
       "      <td>7.26</td>\n",
       "      <td>5.17</td>\n",
       "    </tr>\n",
       "    <tr>\n",
       "      <th>2</th>\n",
       "      <td>Autumn</td>\n",
       "      <td>1931</td>\n",
       "      <td>10.11</td>\n",
       "      <td>7.92</td>\n",
       "      <td>3.74</td>\n",
       "    </tr>\n",
       "    <tr>\n",
       "      <th>3</th>\n",
       "      <td>Autumn</td>\n",
       "      <td>1932</td>\n",
       "      <td>10.29</td>\n",
       "      <td>8.87</td>\n",
       "      <td>10.40</td>\n",
       "    </tr>\n",
       "    <tr>\n",
       "      <th>4</th>\n",
       "      <td>Autumn</td>\n",
       "      <td>1933</td>\n",
       "      <td>7.92</td>\n",
       "      <td>6.65</td>\n",
       "      <td>13.44</td>\n",
       "    </tr>\n",
       "  </tbody>\n",
       "</table>\n",
       "</div>"
      ],
      "text/plain": [
       "   Season  Year   TEMP  VISIB  TempChange\n",
       "0  Autumn  1929   9.98   7.28       10.02\n",
       "1  Autumn  1930  10.71   7.26        5.17\n",
       "2  Autumn  1931  10.11   7.92        3.74\n",
       "3  Autumn  1932  10.29   8.87       10.40\n",
       "4  Autumn  1933   7.92   6.65       13.44"
      ]
     },
     "execution_count": 12,
     "metadata": {},
     "output_type": "execute_result"
    }
   ],
   "source": [
    "# aggregate based on date and seasons\n",
    "grouped_by_seasons=weather_df.groupby(['Season',\"Year\"]).agg({\n",
    "    \"TEMP\":\"mean\",\n",
    "    'VISIB':'mean',\n",
    "    'TempChange':\"mean\",\n",
    "}).reset_index()\n",
    "grouped_by_seasons['TEMP']=round(grouped_by_seasons['TEMP'],2)\n",
    "grouped_by_seasons['VISIB']=round(grouped_by_seasons['VISIB'],2)\n",
    "grouped_by_seasons['TempChange']=round(grouped_by_seasons['TempChange'],2)\n",
    "grouped_by_seasons.head(5)"
   ]
  },
  {
   "cell_type": "code",
   "execution_count": 13,
   "metadata": {},
   "outputs": [
    {
     "data": {
      "image/png": "[encoded data removed]",
      "text/plain": [
       "<Figure size 1500x700 with 3 Axes>"
      ]
     },
     "metadata": {},
     "output_type": "display_data"
    }
   ],
   "source": [
    "try:\n",
    "    # Monthly trends\n",
    "    weather_df['Month'] = pd.to_datetime(weather_df['DATE']).dt.month\n",
    "    monthly_mean_temp = weather_df.groupby('Month')['TEMP'].mean().reset_index()\n",
    "\n",
    "    # Seasonal trends \n",
    "    seasonal_mean_temp = weather_df.groupby('Season')['TEMP'].mean().reset_index()\n",
    "\n",
    "    # set the graph size\n",
    "    plt.figure(figsize=(15, 7))\n",
    "\n",
    "    # subplot(row, columns, first plot)\n",
    "    plt.subplot(2, 2, 1)\n",
    "    sns.lineplot(x='Month', y='TEMP', data=monthly_mean_temp, marker='o')\n",
    "    plt.title('Monthly Mean Temperature')\n",
    "    plt.xlabel('Month')\n",
    "    plt.ylabel('Mean Temperature (°C)')\n",
    "\n",
    "    plt.subplot(2, 2, 2)\n",
    "    sns.barplot(x='Season', y='TEMP', data=seasonal_mean_temp)\n",
    "    plt.title('Seasonal Mean Temperature')\n",
    "    plt.xlabel('Season')\n",
    "    plt.ylabel('Mean Temperature (°C)')\n",
    "\n",
    "    # 2. Temperature Distribution\n",
    "    plt.subplot(2, 2, 3)\n",
    "    sns.histplot(weather_df['TEMP'], bins=20, kde=True,color='red')\n",
    "    plt.title('Temperature Distribution')\n",
    "    plt.xlabel('Temperature (°C)')\n",
    "    plt.ylabel('Frequency')\n",
    "\n",
    "\n",
    "    plt.subplots_adjust(hspace=0.5, wspace=0.5)\n",
    "    plt.show()\n",
    "except Exception as e:\n",
    "    raise e"
   ]
  },
  {
   "cell_type": "code",
   "execution_count": 14,
   "metadata": {},
   "outputs": [
    {
     "data": {
      "application/vnd.plotly.v1+json": {
       "config": {
        "plotlyServerURL": "https://plot.ly"
       },
       "data": [
        {
         "lat": [
          54.817,
          23.964,
          -28.367,
          19.984,
          42.85,
          36.75,
          46.183,
          55.063,
          45.823,
          46.483,
          52.783,
          35.357,
          41.72,
          -0.907,
          41.986,
          -22.633,
          -22.083,
          47.433,
          47.733,
          38.767,
          37.014,
          35.197,
          35.1,
          59.767,
          51.783,
          -42.836,
          64.083,
          52.417,
          69.067,
          19.817,
          34.633,
          13.983,
          46.383,
          47.617,
          40.667,
          44.633,
          -25.517,
          8.1,
          42.35,
          45.151,
          60.7,
          39.917,
          57.983,
          59.35,
          53.309,
          16.767,
          37.617,
          31.742,
          65.15,
          55.567,
          60.683,
          10.367,
          15.65,
          -16.717,
          42.224,
          53.533,
          7.733,
          -17.755,
          30.017,
          44.883,
          43.867,
          41.122,
          63.117,
          33.464,
          42.333,
          -20.114,
          -19.7,
          64.567,
          46.9,
          40.917,
          26.16,
          28.64,
          -17.856,
          34.891,
          52.25,
          -40.757,
          36.399,
          -21.983,
          36.636,
          -22.058,
          28.284,
          43.183,
          -13.85,
          -10.683,
          24.3,
          47.267,
          15.35,
          -6.7,
          -6.017,
          45.85,
          46.9,
          36.515,
          -18.585,
          46.1,
          60.116,
          51.217,
          48.214,
          38.38,
          45.8,
          48.586
         ],
         "lon": [
          46.583,
          32.82,
          31.217,
          42.621,
          74.533,
          -97.35,
          23.933,
          14.76,
          -92.373,
          7.133,
          126,
          -99.204,
          -71.33,
          -78.616,
          -95.381,
          -52.883,
          33.367,
          9.733,
          130.967,
          -104.3,
          -7.966,
          -81.156,
          -1.867,
          22.95,
          -111.217,
          147.51,
          16.233,
          136.5,
          27.5,
          -90.5,
          137.1,
          101.7,
          17.833,
          118.617,
          129.2,
          78.75,
          31.9,
          98.983,
          78.35,
          1.469,
          47.6,
          25.236,
          7.05,
          31.233,
          -110.073,
          101.25,
          120.317,
          118.862,
          18.6,
          13.067,
          13.7,
          -12.083,
          -13.25,
          -43.867,
          -91.166,
          -7.367,
          -8.833,
          177.443,
          -90.117,
          -72.233,
          4.4,
          -100.669,
          75.283,
          -80.853,
          -7.867,
          16.154,
          -51.183,
          19.7,
          -95.067,
          12.95,
          -97.338,
          -96.595,
          36.869,
          -79.759,
          43.783,
          -65.031,
          25.479,
          -47.883,
          53.194,
          27.829,
          68.45,
          124.333,
          167.55,
          35.583,
          91.733,
          -122.576,
          100.5,
          156.383,
          -40.283,
          40.083,
          29.6,
          139.871,
          -173.962,
          7.267,
          -128.823,
          18.567,
          -106.621,
          -81.591,
          15.967,
          18.852
         ],
         "marker": {
          "color": [
           82,
           10,
           36,
           11,
           54,
           37,
           63,
           70,
           79,
           74,
           96,
           47,
           61,
           59,
           51,
           23,
           15,
           64,
           90,
           72,
           33,
           46,
           31,
           78,
           86,
           55,
           88,
           97,
           95,
           4,
           44,
           3,
           56,
           92,
           65,
           67,
           24,
           7,
           73,
           50,
           91,
           38,
           80,
           83,
           87,
           6,
           49,
           41,
           89,
           71,
           84,
           13,
           1,
           20,
           99,
           68,
           12,
           16,
           25,
           75,
           43,
           69,
           98,
           35,
           45,
           26,
           22,
           85,
           81,
           52,
           21,
           27,
           14,
           40,
           100,
           42,
           32,
           29,
           34,
           30,
           19,
           76,
           9,
           28,
           17,
           62,
           2,
           5,
           8,
           57,
           58,
           39,
           18,
           94,
           93,
           66,
           77,
           53,
           48,
           60
          ]
         },
         "mode": "markers",
         "text": [
          "ALATYR' RUSSIA-->6.23",
          "ASWAN INTL EGYPT-->26.72",
          "BABANANGO SOUTH AFRICA-->18.7",
          "BISHA SAUDI ARABIA-->26.53",
          "BISHKEK KYRGYZSTAN-->13.38",
          "BLACKWELL TONKAWA MUNICIPAL AIRPORT UNITED STATES-->18.41",
          "BLAJ ROMANIA-->11.59",
          "BORNHOLM RONNE DENMARK-->9.91",
          "BURNETT COUNTY AIRPORT UNITED STATES-->6.89",
          "CHATEAU-D'OEX SWITZERLAND-->8.23",
          "CHERNJAEVO RUSSIA-->-0.9",
          "CLINTON-SHERMAN AIRPORT UNITED STATES-->16.05",
          "CONIMUCUT LIGHT UNITED STATES-->12.02",
          "COTOPAXI INTL ECUADOR-->12.39",
          "DENISON MUNICIPAL AIRPORT UNITED STATES-->14.15",
          "DIAMANTE DO NORTE BRAZIL-->23.85",
          "DINDIZA-GAZA MOZAMBIQUE-->25.76",
          "DORNBIRN AUSTRIA-->11.35",
          "EKATERINO-NIKOL'SKOE RUSSIA-->3.35",
          "ELLICOTT-B AFA UNITED STATES-->9.31",
          "FARO PORTUGAL-->19.11",
          "GASTONIA MUNICIPAL AIRPORT UNITED STATES-->16.19",
          "GHAZAOUET ALGERIA-->20.55",
          "HANKO RUSSARO FINLAND-->7.33",
          "HEMARUKA AGCM CANADA-->4.29",
          "HOBART AUSTRALIA-->13.21",
          "HOTING SWEDEN-->3.96",
          "IM POLINY OSIPENKO RUSSIA-->-0.99",
          "INARI VAYLA FINLAND-->-0.08",
          "INGENIERO ALBERTO ACUNA ONGAY INTL MEXICO-->28.24",
          "IRAKO JAPAN-->16.31",
          "KABINBURI THAILAND-->28.35",
          "KAPOSVAR HUNGARY-->13.14",
          "KHALKH-GOL MONGOLIA-->1.48",
          "KIMCHAEK/SONGJIN KOREA, NORTH-->10.93",
          "KOK-SU KAZAKHSTAN-->10.56",
          "KOMATIDRAAI SOUTH AFRICA-->23.44",
          "KRABI THAILAND-->27.68",
          "KYZYL-SUU KYRGYZSTAN-->8.78",
          "LA ROCHE FRANCE-->14.23",
          "LAL' SK RUSSIA-->3.31",
          "LIMNOS GREECE-->17.69",
          "LINDESNES FYR NORWAY-->6.71",
          "LJUBAN' RUSSIA-->5.96",
          "LLOYDMINSTER CANADA-->4.05",
          "LOMSAK THAILAND-->27.92",
          "LONGKOU CHINA-->14.46",
          "LUKOU CHINA-->17.18",
          "MALA-BRANNAN SWEDEN-->3.73",
          "MALMO SWEDEN-->9.5",
          "MALUNG A SWEDEN-->5.48",
          "MAMOU GUINEA-->25.91",
          "MATAM/OURO SOGUI SENEGAL-->29.58",
          "MONTES CLAROS BRAZIL-->24.7",
          "MONTICELLO REGIONAL ARPT UNITED STATES-->-2.67",
          "MULLINGAR IRELAND-->10.39",
          "N'ZEREKORE/KONIA GUINEA-->25.93",
          "NADI INTL FIJI-->25.64",
          "NEW CANAL UNITED STATES-->22.49",
          "NEWPORT AP UNITED STATES-->7.75",
          "NIMES/COURBESSAC FRANCE-->16.38",
          "NORTH PLATTE RGNL AP LEE BIRD FD AP UNITED STATES-->10.02",
          "NOYABR' SK RUSSIA-->-1.57",
          "ORANGEBURG MUNICIPAL ARPT UNITED STATES-->18.84",
          "ORENSE SPAIN-->16.29",
          "OUTJO NAMIBIA-->22.45",
          "PARANAIBA BRAZIL-->24.07",
          "PETISTRASK SWEDEN-->4.84",
          "PK RPDS MUNI-KONSHOK FD AP UNITED STATES-->6.39",
          "PONZA ISLAND ITALY-->14.07",
          "PORT ISABEL-CAMERON CO APT UNITED STATES-->24.62",
          "PORT LAVACA UNITED STATES-->22.35",
          "QUELIMANE MOZAMBIQUE-->25.88",
          "RICHMOND COUNTY AIRPORT UNITED STATES-->17.32",
          "RTISCEVO RUSSIA-->-3.38",
          "SAN ANTONIO OESTE AERO ARGENTINA-->16.61",
          "SANTORINI GREECE-->20.29",
          "SAO CARLOS BRAZIL-->21.49",
          "SARI DASHT E NAZ IRAN-->19.05",
          "SELEBI PHIKWE BOTSWANA-->20.93",
          "SHAHBAZ AB PAKISTAN-->24.81",
          "SIPING CHINA-->7.64",
          "SOLA/VANUA LAVA ISL VANUATU-->27.56",
          "SONGEA TANZANIA-->22.11",
          "SRIMANGAL BANGLADESH-->25.6",
          "TACOMA NARROWS AIRPORT UNITED STATES-->11.63",
          "TAKFA AGROMET THAILAND-->28.87",
          "TARO ISLAND SOLOMON ISLANDS-->28.06",
          "TAUA BRAZIL-->27.67",
          "TIHORECK RUSSIA-->13.1",
          "TIRASPOL MOLDOVA-->12.68",
          "UTSUNOMIYA JAPAN-->17.49",
          "VAVAU INTL TONGA-->25.38",
          "VERBIER-LES ATTLELAS SWITZERLAND-->0.49",
          "WATSON LAKE CANADA-->0.67",
          "WIELUN POLAND-->10.58",
          "WOKAL FIELD/GLASGOW INTL AIRPORT UNITED STATES-->7.59",
          "YEAGER AIRPORT UNITED STATES-->13.77",
          "ZAGREB/GRIC CROATIA-->14.77",
          "ZIAR NAD HRONOM SLOVAKIA-->12.21"
         ],
         "type": "scattergeo"
        }
       ],
       "layout": {
        "geo": {
         "resolution": 110,
         "scope": "world"
        },
        "height": 600,
        "template": {
         "data": {
          "bar": [
           {
            "error_x": {
             "color": "#2a3f5f"
            },
            "error_y": {
             "color": "#2a3f5f"
            },
            "marker": {
             "line": {
              "color": "#E5ECF6",
              "width": 0.5
             },
             "pattern": {
              "fillmode": "overlay",
              "size": 10,
              "solidity": 0.2
             }
            },
            "type": "bar"
           }
          ],
          "barpolar": [
           {
            "marker": {
             "line": {
              "color": "#E5ECF6",
              "width": 0.5
             },
             "pattern": {
              "fillmode": "overlay",
              "size": 10,
              "solidity": 0.2
             }
            },
            "type": "barpolar"
           }
          ],
          "carpet": [
           {
            "aaxis": {
             "endlinecolor": "#2a3f5f",
             "gridcolor": "white",
             "linecolor": "white",
             "minorgridcolor": "white",
             "startlinecolor": "#2a3f5f"
            },
            "baxis": {
             "endlinecolor": "#2a3f5f",
             "gridcolor": "white",
             "linecolor": "white",
             "minorgridcolor": "white",
             "startlinecolor": "#2a3f5f"
            },
            "type": "carpet"
           }
          ],
          "choropleth": [
           {
            "colorbar": {
             "outlinewidth": 0,
             "ticks": ""
            },
            "type": "choropleth"
           }
          ],
          "contour": [
           {
            "colorbar": {
             "outlinewidth": 0,
             "ticks": ""
            },
            "colorscale": [
             [
              0,
              "#0d0887"
             ],
             [
              0.1111111111111111,
              "#46039f"
             ],
             [
              0.2222222222222222,
              "#7201a8"
             ],
             [
              0.3333333333333333,
              "#9c179e"
             ],
             [
              0.4444444444444444,
              "#bd3786"
             ],
             [
              0.5555555555555556,
              "#d8576b"
             ],
             [
              0.6666666666666666,
              "#ed7953"
             ],
             [
              0.7777777777777778,
              "#fb9f3a"
             ],
             [
              0.8888888888888888,
              "#fdca26"
             ],
             [
              1,
              "#f0f921"
             ]
            ],
            "type": "contour"
           }
          ],
          "contourcarpet": [
           {
            "colorbar": {
             "outlinewidth": 0,
             "ticks": ""
            },
            "type": "contourcarpet"
           }
          ],
          "heatmap": [
           {
            "colorbar": {
             "outlinewidth": 0,
             "ticks": ""
            },
            "colorscale": [
             [
              0,
              "#0d0887"
             ],
             [
              0.1111111111111111,
              "#46039f"
             ],
             [
              0.2222222222222222,
              "#7201a8"
             ],
             [
              0.3333333333333333,
              "#9c179e"
             ],
             [
              0.4444444444444444,
              "#bd3786"
             ],
             [
              0.5555555555555556,
              "#d8576b"
             ],
             [
              0.6666666666666666,
              "#ed7953"
             ],
             [
              0.7777777777777778,
              "#fb9f3a"
             ],
             [
              0.8888888888888888,
              "#fdca26"
             ],
             [
              1,
              "#f0f921"
             ]
            ],
            "type": "heatmap"
           }
          ],
          "heatmapgl": [
           {
            "colorbar": {
             "outlinewidth": 0,
             "ticks": ""
            },
            "colorscale": [
             [
              0,
              "#0d0887"
             ],
             [
              0.1111111111111111,
              "#46039f"
             ],
             [
              0.2222222222222222,
              "#7201a8"
             ],
             [
              0.3333333333333333,
              "#9c179e"
             ],
             [
              0.4444444444444444,
              "#bd3786"
             ],
             [
              0.5555555555555556,
              "#d8576b"
             ],
             [
              0.6666666666666666,
              "#ed7953"
             ],
             [
              0.7777777777777778,
              "#fb9f3a"
             ],
             [
              0.8888888888888888,
              "#fdca26"
             ],
             [
              1,
              "#f0f921"
             ]
            ],
            "type": "heatmapgl"
           }
          ],
          "histogram": [
           {
            "marker": {
             "pattern": {
              "fillmode": "overlay",
              "size": 10,
              "solidity": 0.2
             }
            },
            "type": "histogram"
           }
          ],
          "histogram2d": [
           {
            "colorbar": {
             "outlinewidth": 0,
             "ticks": ""
            },
            "colorscale": [
             [
              0,
              "#0d0887"
             ],
             [
              0.1111111111111111,
              "#46039f"
             ],
             [
              0.2222222222222222,
              "#7201a8"
             ],
             [
              0.3333333333333333,
              "#9c179e"
             ],
             [
              0.4444444444444444,
              "#bd3786"
             ],
             [
              0.5555555555555556,
              "#d8576b"
             ],
             [
              0.6666666666666666,
              "#ed7953"
             ],
             [
              0.7777777777777778,
              "#fb9f3a"
             ],
             [
              0.8888888888888888,
              "#fdca26"
             ],
             [
              1,
              "#f0f921"
             ]
            ],
            "type": "histogram2d"
           }
          ],
          "histogram2dcontour": [
           {
            "colorbar": {
             "outlinewidth": 0,
             "ticks": ""
            },
            "colorscale": [
             [
              0,
              "#0d0887"
             ],
             [
              0.1111111111111111,
              "#46039f"
             ],
             [
              0.2222222222222222,
              "#7201a8"
             ],
             [
              0.3333333333333333,
              "#9c179e"
             ],
             [
              0.4444444444444444,
              "#bd3786"
             ],
             [
              0.5555555555555556,
              "#d8576b"
             ],
             [
              0.6666666666666666,
              "#ed7953"
             ],
             [
              0.7777777777777778,
              "#fb9f3a"
             ],
             [
              0.8888888888888888,
              "#fdca26"
             ],
             [
              1,
              "#f0f921"
             ]
            ],
            "type": "histogram2dcontour"
           }
          ],
          "mesh3d": [
           {
            "colorbar": {
             "outlinewidth": 0,
             "ticks": ""
            },
            "type": "mesh3d"
           }
          ],
          "parcoords": [
           {
            "line": {
             "colorbar": {
              "outlinewidth": 0,
              "ticks": ""
             }
            },
            "type": "parcoords"
           }
          ],
          "pie": [
           {
            "automargin": true,
            "type": "pie"
           }
          ],
          "scatter": [
           {
            "fillpattern": {
             "fillmode": "overlay",
             "size": 10,
             "solidity": 0.2
            },
            "type": "scatter"
           }
          ],
          "scatter3d": [
           {
            "line": {
             "colorbar": {
              "outlinewidth": 0,
              "ticks": ""
             }
            },
            "marker": {
             "colorbar": {
              "outlinewidth": 0,
              "ticks": ""
             }
            },
            "type": "scatter3d"
           }
          ],
          "scattercarpet": [
           {
            "marker": {
             "colorbar": {
              "outlinewidth": 0,
              "ticks": ""
             }
            },
            "type": "scattercarpet"
           }
          ],
          "scattergeo": [
           {
            "marker": {
             "colorbar": {
              "outlinewidth": 0,
              "ticks": ""
             }
            },
            "type": "scattergeo"
           }
          ],
          "scattergl": [
           {
            "marker": {
             "colorbar": {
              "outlinewidth": 0,
              "ticks": ""
             }
            },
            "type": "scattergl"
           }
          ],
          "scattermapbox": [
           {
            "marker": {
             "colorbar": {
              "outlinewidth": 0,
              "ticks": ""
             }
            },
            "type": "scattermapbox"
           }
          ],
          "scatterpolar": [
           {
            "marker": {
             "colorbar": {
              "outlinewidth": 0,
              "ticks": ""
             }
            },
            "type": "scatterpolar"
           }
          ],
          "scatterpolargl": [
           {
            "marker": {
             "colorbar": {
              "outlinewidth": 0,
              "ticks": ""
             }
            },
            "type": "scatterpolargl"
           }
          ],
          "scatterternary": [
           {
            "marker": {
             "colorbar": {
              "outlinewidth": 0,
              "ticks": ""
             }
            },
            "type": "scatterternary"
           }
          ],
          "surface": [
           {
            "colorbar": {
             "outlinewidth": 0,
             "ticks": ""
            },
            "colorscale": [
             [
              0,
              "#0d0887"
             ],
             [
              0.1111111111111111,
              "#46039f"
             ],
             [
              0.2222222222222222,
              "#7201a8"
             ],
             [
              0.3333333333333333,
              "#9c179e"
             ],
             [
              0.4444444444444444,
              "#bd3786"
             ],
             [
              0.5555555555555556,
              "#d8576b"
             ],
             [
              0.6666666666666666,
              "#ed7953"
             ],
             [
              0.7777777777777778,
              "#fb9f3a"
             ],
             [
              0.8888888888888888,
              "#fdca26"
             ],
             [
              1,
              "#f0f921"
             ]
            ],
            "type": "surface"
           }
          ],
          "table": [
           {
            "cells": {
             "fill": {
              "color": "#EBF0F8"
             },
             "line": {
              "color": "white"
             }
            },
            "header": {
             "fill": {
              "color": "#C8D4E3"
             },
             "line": {
              "color": "white"
             }
            },
            "type": "table"
           }
          ]
         },
         "layout": {
          "annotationdefaults": {
           "arrowcolor": "#2a3f5f",
           "arrowhead": 0,
           "arrowwidth": 1
          },
          "autotypenumbers": "strict",
          "coloraxis": {
           "colorbar": {
            "outlinewidth": 0,
            "ticks": ""
           }
          },
          "colorscale": {
           "diverging": [
            [
             0,
             "#8e0152"
            ],
            [
             0.1,
             "#c51b7d"
            ],
            [
             0.2,
             "#de77ae"
            ],
            [
             0.3,
             "#f1b6da"
            ],
            [
             0.4,
             "#fde0ef"
            ],
            [
             0.5,
             "#f7f7f7"
            ],
            [
             0.6,
             "#e6f5d0"
            ],
            [
             0.7,
             "#b8e186"
            ],
            [
             0.8,
             "#7fbc41"
            ],
            [
             0.9,
             "#4d9221"
            ],
            [
             1,
             "#276419"
            ]
           ],
           "sequential": [
            [
             0,
             "#0d0887"
            ],
            [
             0.1111111111111111,
             "#46039f"
            ],
            [
             0.2222222222222222,
             "#7201a8"
            ],
            [
             0.3333333333333333,
             "#9c179e"
            ],
            [
             0.4444444444444444,
             "#bd3786"
            ],
            [
             0.5555555555555556,
             "#d8576b"
            ],
            [
             0.6666666666666666,
             "#ed7953"
            ],
            [
             0.7777777777777778,
             "#fb9f3a"
            ],
            [
             0.8888888888888888,
             "#fdca26"
            ],
            [
             1,
             "#f0f921"
            ]
           ],
           "sequentialminus": [
            [
             0,
             "#0d0887"
            ],
            [
             0.1111111111111111,
             "#46039f"
            ],
            [
             0.2222222222222222,
             "#7201a8"
            ],
            [
             0.3333333333333333,
             "#9c179e"
            ],
            [
             0.4444444444444444,
             "#bd3786"
            ],
            [
             0.5555555555555556,
             "#d8576b"
            ],
            [
             0.6666666666666666,
             "#ed7953"
            ],
            [
             0.7777777777777778,
             "#fb9f3a"
            ],
            [
             0.8888888888888888,
             "#fdca26"
            ],
            [
             1,
             "#f0f921"
            ]
           ]
          },
          "colorway": [
           "#636efa",
           "#EF553B",
           "#00cc96",
           "#ab63fa",
           "#FFA15A",
           "#19d3f3",
           "#FF6692",
           "#B6E880",
           "#FF97FF",
           "#FECB52"
          ],
          "font": {
           "color": "#2a3f5f"
          },
          "geo": {
           "bgcolor": "white",
           "lakecolor": "white",
           "landcolor": "#E5ECF6",
           "showlakes": true,
           "showland": true,
           "subunitcolor": "white"
          },
          "hoverlabel": {
           "align": "left"
          },
          "hovermode": "closest",
          "mapbox": {
           "style": "light"
          },
          "paper_bgcolor": "white",
          "plot_bgcolor": "#E5ECF6",
          "polar": {
           "angularaxis": {
            "gridcolor": "white",
            "linecolor": "white",
            "ticks": ""
           },
           "bgcolor": "#E5ECF6",
           "radialaxis": {
            "gridcolor": "white",
            "linecolor": "white",
            "ticks": ""
           }
          },
          "scene": {
           "xaxis": {
            "backgroundcolor": "#E5ECF6",
            "gridcolor": "white",
            "gridwidth": 2,
            "linecolor": "white",
            "showbackground": true,
            "ticks": "",
            "zerolinecolor": "white"
           },
           "yaxis": {
            "backgroundcolor": "#E5ECF6",
            "gridcolor": "white",
            "gridwidth": 2,
            "linecolor": "white",
            "showbackground": true,
            "ticks": "",
            "zerolinecolor": "white"
           },
           "zaxis": {
            "backgroundcolor": "#E5ECF6",
            "gridcolor": "white",
            "gridwidth": 2,
            "linecolor": "white",
            "showbackground": true,
            "ticks": "",
            "zerolinecolor": "white"
           }
          },
          "shapedefaults": {
           "line": {
            "color": "#2a3f5f"
           }
          },
          "ternary": {
           "aaxis": {
            "gridcolor": "white",
            "linecolor": "white",
            "ticks": ""
           },
           "baxis": {
            "gridcolor": "white",
            "linecolor": "white",
            "ticks": ""
           },
           "bgcolor": "#E5ECF6",
           "caxis": {
            "gridcolor": "white",
            "linecolor": "white",
            "ticks": ""
           }
          },
          "title": {
           "x": 0.05
          },
          "xaxis": {
           "automargin": true,
           "gridcolor": "white",
           "linecolor": "white",
           "ticks": "",
           "title": {
            "standoff": 15
           },
           "zerolinecolor": "white",
           "zerolinewidth": 2
          },
          "yaxis": {
           "automargin": true,
           "gridcolor": "white",
           "linecolor": "white",
           "ticks": "",
           "title": {
            "standoff": 15
           },
           "zerolinecolor": "white",
           "zerolinewidth": 2
          }
         }
        },
        "width": 1400
       }
      }
     },
     "metadata": {},
     "output_type": "display_data"
    }
   ],
   "source": [
    "import plotly.express as px\n",
    "import plotly.graph_objects as go\n",
    "import pandas as pd\n",
    "\n",
    "geo_df = weather_df[weather_df['Year']==2023].groupby('STATION NAME').agg({'TEMP':'mean','LAT':'max','LON':'max','COUNTRY NAME':'max'}).reset_index()\n",
    "geo_df['TEMP']=round(geo_df['TEMP'],2)\n",
    "geo_df['Rank']=geo_df['TEMP'].rank(ascending=False, method='dense')\n",
    "geo_df['text'] = geo_df['STATION NAME'] + ' ' + geo_df['COUNTRY NAME'] + '-->' + geo_df['TEMP'].astype(str)\n",
    "\n",
    "fig = go.Figure(data=go.Scattergeo(\n",
    "        text = geo_df['text'],\n",
    "        lat = geo_df['LAT'],\n",
    "        lon = geo_df['LON'],\n",
    "        mode = 'markers',\n",
    "        marker_color = geo_df['Rank'],\n",
    "        ))\n",
    "\n",
    "fig.update_layout(\n",
    "        geo_scope='world',\n",
    "        geo = dict(resolution = 110),\n",
    "        height=600,  # Set the desired height\n",
    "        width=1400,  # Set the desired width\n",
    "    )\n",
    "fig.show()"
   ]
  },
  {
   "cell_type": "code",
   "execution_count": 15,
   "metadata": {},
   "outputs": [],
   "source": [
    "# save the all the dataframe \n",
    "grouped_by_date.to_csv('../data/aggregated/aggregated_by_date.csv',index=False)\n",
    "grouped_by_year.to_csv('../data/aggregated/aggregated_by_year.csv',index=False)\n",
    "grouped_by_seasons.to_csv('../data/aggregated/aggregated_by_season.csv',index=False)"
   ]
  },
  {
   "cell_type": "code",
   "execution_count": null,
   "metadata": {},
   "outputs": [],
   "source": []
  }
 ],
 "metadata": {
  "kernelspec": {
   "display_name": "Python 3",
   "language": "python",
   "name": "python3"
  },
  "language_info": {
   "codemirror_mode": {
    "name": "ipython",
    "version": 3
   },
   "file_extension": ".py",
   "mimetype": "text/x-python",
   "name": "python",
   "nbconvert_exporter": "python",
   "pygments_lexer": "ipython3",
   "version": "3.12.0"
  }
 },
 "nbformat": 4,
 "nbformat_minor": 2
}
